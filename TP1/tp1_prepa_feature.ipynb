{
 "cells": [
  {
   "cell_type": "markdown",
   "metadata": {},
   "source": [
    "## Import des librairies ##"
   ],
   "execution_count": null,
   "outputs": []
  },
  {
   "cell_type": "code",
   "execution_count": 1,
   "metadata": {},
   "outputs": [],
   "source": [
    "#Imports librairies de base\n",
    "import numpy as np\n",
    "import pandas as pd\n",
    "\n",
    "#Bibliothèques pour Cross validation\n",
    "\n",
    "#Affichage de Graphes\n",
    "from IPython.display import Markdown, display, HTML"
   ]
  },
  {
   "cell_type": "markdown",
   "metadata": {
    "_cell_guid": "25b1e1db-8bc5-7029-f719-91da523bd121",
    "_uuid": "5c867fcbb300bcf3c9b8986bba9949da2a2df931"
   },
   "source": [
    "## 1. Lecture des données ##"
   ],
   "execution_count": null,
   "outputs": []
  },
  {
   "cell_type": "markdown",
   "metadata": {},
   "source": [
    "1.1 Charger les données d'apprentissage (Data/passagers.csv) dans un DataFrame nommé train. Afficher 10 exemples."
   ],
   "execution_count": null,
   "outputs": []
  },
  {
   "cell_type": "code",
   "execution_count": 2,
   "metadata": {
    "_cell_guid": "2ce68358-02ec-556d-ba88-e773a50bc18b",
    "_uuid": "5ec0878acc5c7ab3903410e671c2a2c6cfeafeea"
   },
   "outputs": [
    {
     "output_type": "execute_result",
     "data": {
      "text/plain": "     PassengerId  Survived  Pclass  \\\n720          721         1       2   \n4              5         0       3   \n858          859         1       3   \n186          187         1       3   \n836          837         0       3   \n73            74         0       3   \n323          324         1       2   \n686          687         0       3   \n20            21         0       2   \n864          865         0       2   \n\n                                                  Name     Sex   Age  SibSp  \\\n720                  Harper, Miss. Annie Jessie \"Nina\"  female   6.0      0   \n4                             Allen, Mr. William Henry    male  35.0      0   \n858              Baclini, Mrs. Solomon (Latifa Qurban)  female  24.0      0   \n186    O'Brien, Mrs. Thomas (Johanna \"Hannah\" Godfrey)  female   NaN      1   \n836                                   Pasic, Mr. Jakob    male  21.0      0   \n73                         Chronopoulos, Mr. Apostolos    male  26.0      1   \n323  Caldwell, Mrs. Albert Francis (Sylvia Mae Harb...  female  22.0      1   \n686                           Panula, Mr. Jaako Arnold    male  14.0      4   \n20                                Fynney, Mr. Joseph J    male  35.0      0   \n864                             Gill, Mr. John William    male  24.0      0   \n\n     Parch   Ticket     Fare Cabin Embarked  \n720      1   248727  33.0000   NaN        S  \n4        0   373450   8.0500   NaN        S  \n858      3     2666  19.2583   NaN        C  \n186      0   370365  15.5000   NaN        Q  \n836      0   315097   8.6625   NaN        S  \n73       0     2680  14.4542   NaN        C  \n323      1   248738  29.0000   NaN        S  \n686      1  3101295  39.6875   NaN        S  \n20       0   239865  26.0000   NaN        S  \n864      0   233866  13.0000   NaN        S  ",
      "text/html": "<div>\n<style scoped>\n    .dataframe tbody tr th:only-of-type {\n        vertical-align: middle;\n    }\n\n    .dataframe tbody tr th {\n        vertical-align: top;\n    }\n\n    .dataframe thead th {\n        text-align: right;\n    }\n</style>\n<table border=\"1\" class=\"dataframe\">\n  <thead>\n    <tr style=\"text-align: right;\">\n      <th></th>\n      <th>PassengerId</th>\n      <th>Survived</th>\n      <th>Pclass</th>\n      <th>Name</th>\n      <th>Sex</th>\n      <th>Age</th>\n      <th>SibSp</th>\n      <th>Parch</th>\n      <th>Ticket</th>\n      <th>Fare</th>\n      <th>Cabin</th>\n      <th>Embarked</th>\n    </tr>\n  </thead>\n  <tbody>\n    <tr>\n      <th>720</th>\n      <td>721</td>\n      <td>1</td>\n      <td>2</td>\n      <td>Harper, Miss. Annie Jessie \"Nina\"</td>\n      <td>female</td>\n      <td>6.0</td>\n      <td>0</td>\n      <td>1</td>\n      <td>248727</td>\n      <td>33.0000</td>\n      <td>NaN</td>\n      <td>S</td>\n    </tr>\n    <tr>\n      <th>4</th>\n      <td>5</td>\n      <td>0</td>\n      <td>3</td>\n      <td>Allen, Mr. William Henry</td>\n      <td>male</td>\n      <td>35.0</td>\n      <td>0</td>\n      <td>0</td>\n      <td>373450</td>\n      <td>8.0500</td>\n      <td>NaN</td>\n      <td>S</td>\n    </tr>\n    <tr>\n      <th>858</th>\n      <td>859</td>\n      <td>1</td>\n      <td>3</td>\n      <td>Baclini, Mrs. Solomon (Latifa Qurban)</td>\n      <td>female</td>\n      <td>24.0</td>\n      <td>0</td>\n      <td>3</td>\n      <td>2666</td>\n      <td>19.2583</td>\n      <td>NaN</td>\n      <td>C</td>\n    </tr>\n    <tr>\n      <th>186</th>\n      <td>187</td>\n      <td>1</td>\n      <td>3</td>\n      <td>O'Brien, Mrs. Thomas (Johanna \"Hannah\" Godfrey)</td>\n      <td>female</td>\n      <td>NaN</td>\n      <td>1</td>\n      <td>0</td>\n      <td>370365</td>\n      <td>15.5000</td>\n      <td>NaN</td>\n      <td>Q</td>\n    </tr>\n    <tr>\n      <th>836</th>\n      <td>837</td>\n      <td>0</td>\n      <td>3</td>\n      <td>Pasic, Mr. Jakob</td>\n      <td>male</td>\n      <td>21.0</td>\n      <td>0</td>\n      <td>0</td>\n      <td>315097</td>\n      <td>8.6625</td>\n      <td>NaN</td>\n      <td>S</td>\n    </tr>\n    <tr>\n      <th>73</th>\n      <td>74</td>\n      <td>0</td>\n      <td>3</td>\n      <td>Chronopoulos, Mr. Apostolos</td>\n      <td>male</td>\n      <td>26.0</td>\n      <td>1</td>\n      <td>0</td>\n      <td>2680</td>\n      <td>14.4542</td>\n      <td>NaN</td>\n      <td>C</td>\n    </tr>\n    <tr>\n      <th>323</th>\n      <td>324</td>\n      <td>1</td>\n      <td>2</td>\n      <td>Caldwell, Mrs. Albert Francis (Sylvia Mae Harb...</td>\n      <td>female</td>\n      <td>22.0</td>\n      <td>1</td>\n      <td>1</td>\n      <td>248738</td>\n      <td>29.0000</td>\n      <td>NaN</td>\n      <td>S</td>\n    </tr>\n    <tr>\n      <th>686</th>\n      <td>687</td>\n      <td>0</td>\n      <td>3</td>\n      <td>Panula, Mr. Jaako Arnold</td>\n      <td>male</td>\n      <td>14.0</td>\n      <td>4</td>\n      <td>1</td>\n      <td>3101295</td>\n      <td>39.6875</td>\n      <td>NaN</td>\n      <td>S</td>\n    </tr>\n    <tr>\n      <th>20</th>\n      <td>21</td>\n      <td>0</td>\n      <td>2</td>\n      <td>Fynney, Mr. Joseph J</td>\n      <td>male</td>\n      <td>35.0</td>\n      <td>0</td>\n      <td>0</td>\n      <td>239865</td>\n      <td>26.0000</td>\n      <td>NaN</td>\n      <td>S</td>\n    </tr>\n    <tr>\n      <th>864</th>\n      <td>865</td>\n      <td>0</td>\n      <td>2</td>\n      <td>Gill, Mr. John William</td>\n      <td>male</td>\n      <td>24.0</td>\n      <td>0</td>\n      <td>0</td>\n      <td>233866</td>\n      <td>13.0000</td>\n      <td>NaN</td>\n      <td>S</td>\n    </tr>\n  </tbody>\n</table>\n</div>"
     },
     "metadata": {},
     "execution_count": 2
    }
   ],
   "source": [
    "train=pd.read_csv('Data/passagers.csv', dtype={'PassengerId': np.int})\n",
    "train.sample(10)"
   ]
  },
  {
   "cell_type": "markdown",
   "metadata": {},
   "source": [
    "1.2 Charger les données d'apprentissage (Data/test.csv) dans un Dataframe nommé test. Afficher 10 exemples. "
   ],
   "execution_count": null,
   "outputs": []
  },
  {
   "cell_type": "code",
   "execution_count": 3,
   "metadata": {
    "_cell_guid": "2ce68358-02ec-556d-ba88-e773a50bc18b",
    "_uuid": "5ec0878acc5c7ab3903410e671c2a2c6cfeafeea"
   },
   "outputs": [
    {
     "output_type": "execute_result",
     "data": {
      "text/plain": "     PassengerId  Pclass                                               Name  \\\n351         1243       2                          Stokes, Mr. Philip Joseph   \n55           947       3                               Rice, Master. Albert   \n16           908       2                                  Keane, Mr. Daniel   \n202         1094       1                             Astor, Col. John Jacob   \n153         1045       3     Klasen, Mrs. (Hulda Kristina Eugenia Lofqvist)   \n131         1023       1                          Gracie, Col. Archibald IV   \n168         1060       1  Cassebeer, Mrs. Henry Arthur Jr (Eleanor Genev...   \n11           903       1                         Jones, Mr. Charles Cresson   \n164         1056       2                      Peruschitz, Rev. Joseph Maria   \n275         1167       2                Bryhl, Miss. Dagmar Jenny Ingeborg    \n\n        Sex   Age  SibSp  Parch        Ticket      Fare    Cabin Embarked  \n351    male  25.0      0      0  F.C.C. 13540   10.5000      NaN        S  \n55     male  10.0      4      1        382652   29.1250      NaN        Q  \n16     male  35.0      0      0        233734   12.3500      NaN        Q  \n202    male  47.0      1      0      PC 17757  227.5250  C62 C64        C  \n153  female  36.0      0      2        350405   12.1833      NaN        S  \n131    male  53.0      0      0        113780   28.5000      C51        C  \n168  female   NaN      0      0         17770   27.7208      NaN        C  \n11     male  46.0      0      0           694   26.0000      NaN        S  \n164    male  41.0      0      0        237393   13.0000      NaN        S  \n275  female  20.0      1      0        236853   26.0000      NaN        S  ",
      "text/html": "<div>\n<style scoped>\n    .dataframe tbody tr th:only-of-type {\n        vertical-align: middle;\n    }\n\n    .dataframe tbody tr th {\n        vertical-align: top;\n    }\n\n    .dataframe thead th {\n        text-align: right;\n    }\n</style>\n<table border=\"1\" class=\"dataframe\">\n  <thead>\n    <tr style=\"text-align: right;\">\n      <th></th>\n      <th>PassengerId</th>\n      <th>Pclass</th>\n      <th>Name</th>\n      <th>Sex</th>\n      <th>Age</th>\n      <th>SibSp</th>\n      <th>Parch</th>\n      <th>Ticket</th>\n      <th>Fare</th>\n      <th>Cabin</th>\n      <th>Embarked</th>\n    </tr>\n  </thead>\n  <tbody>\n    <tr>\n      <th>351</th>\n      <td>1243</td>\n      <td>2</td>\n      <td>Stokes, Mr. Philip Joseph</td>\n      <td>male</td>\n      <td>25.0</td>\n      <td>0</td>\n      <td>0</td>\n      <td>F.C.C. 13540</td>\n      <td>10.5000</td>\n      <td>NaN</td>\n      <td>S</td>\n    </tr>\n    <tr>\n      <th>55</th>\n      <td>947</td>\n      <td>3</td>\n      <td>Rice, Master. Albert</td>\n      <td>male</td>\n      <td>10.0</td>\n      <td>4</td>\n      <td>1</td>\n      <td>382652</td>\n      <td>29.1250</td>\n      <td>NaN</td>\n      <td>Q</td>\n    </tr>\n    <tr>\n      <th>16</th>\n      <td>908</td>\n      <td>2</td>\n      <td>Keane, Mr. Daniel</td>\n      <td>male</td>\n      <td>35.0</td>\n      <td>0</td>\n      <td>0</td>\n      <td>233734</td>\n      <td>12.3500</td>\n      <td>NaN</td>\n      <td>Q</td>\n    </tr>\n    <tr>\n      <th>202</th>\n      <td>1094</td>\n      <td>1</td>\n      <td>Astor, Col. John Jacob</td>\n      <td>male</td>\n      <td>47.0</td>\n      <td>1</td>\n      <td>0</td>\n      <td>PC 17757</td>\n      <td>227.5250</td>\n      <td>C62 C64</td>\n      <td>C</td>\n    </tr>\n    <tr>\n      <th>153</th>\n      <td>1045</td>\n      <td>3</td>\n      <td>Klasen, Mrs. (Hulda Kristina Eugenia Lofqvist)</td>\n      <td>female</td>\n      <td>36.0</td>\n      <td>0</td>\n      <td>2</td>\n      <td>350405</td>\n      <td>12.1833</td>\n      <td>NaN</td>\n      <td>S</td>\n    </tr>\n    <tr>\n      <th>131</th>\n      <td>1023</td>\n      <td>1</td>\n      <td>Gracie, Col. Archibald IV</td>\n      <td>male</td>\n      <td>53.0</td>\n      <td>0</td>\n      <td>0</td>\n      <td>113780</td>\n      <td>28.5000</td>\n      <td>C51</td>\n      <td>C</td>\n    </tr>\n    <tr>\n      <th>168</th>\n      <td>1060</td>\n      <td>1</td>\n      <td>Cassebeer, Mrs. Henry Arthur Jr (Eleanor Genev...</td>\n      <td>female</td>\n      <td>NaN</td>\n      <td>0</td>\n      <td>0</td>\n      <td>17770</td>\n      <td>27.7208</td>\n      <td>NaN</td>\n      <td>C</td>\n    </tr>\n    <tr>\n      <th>11</th>\n      <td>903</td>\n      <td>1</td>\n      <td>Jones, Mr. Charles Cresson</td>\n      <td>male</td>\n      <td>46.0</td>\n      <td>0</td>\n      <td>0</td>\n      <td>694</td>\n      <td>26.0000</td>\n      <td>NaN</td>\n      <td>S</td>\n    </tr>\n    <tr>\n      <th>164</th>\n      <td>1056</td>\n      <td>2</td>\n      <td>Peruschitz, Rev. Joseph Maria</td>\n      <td>male</td>\n      <td>41.0</td>\n      <td>0</td>\n      <td>0</td>\n      <td>237393</td>\n      <td>13.0000</td>\n      <td>NaN</td>\n      <td>S</td>\n    </tr>\n    <tr>\n      <th>275</th>\n      <td>1167</td>\n      <td>2</td>\n      <td>Bryhl, Miss. Dagmar Jenny Ingeborg</td>\n      <td>female</td>\n      <td>20.0</td>\n      <td>1</td>\n      <td>0</td>\n      <td>236853</td>\n      <td>26.0000</td>\n      <td>NaN</td>\n      <td>S</td>\n    </tr>\n  </tbody>\n</table>\n</div>"
     },
     "metadata": {},
     "execution_count": 3
    }
   ],
   "source": [
    "test=pd.read_csv('Data/test.csv', dtype={'PassengerId': np.int})\n",
    "test.sample(10)"
   ]
  },
  {
   "cell_type": "markdown",
   "metadata": {},
   "source": [
    "1.3 Afficher les informations des deux DataFrames train et Test."
   ],
   "execution_count": null,
   "outputs": []
  },
  {
   "cell_type": "code",
   "execution_count": 4,
   "metadata": {
    "_cell_guid": "2ce68358-02ec-556d-ba88-e773a50bc18b",
    "_uuid": "5ec0878acc5c7ab3903410e671c2a2c6cfeafeea"
   },
   "outputs": [
    {
     "output_type": "stream",
     "name": "stdout",
     "text": "<class 'pandas.core.frame.DataFrame'>\nRangeIndex: 891 entries, 0 to 890\nData columns (total 12 columns):\n #   Column       Non-Null Count  Dtype  \n---  ------       --------------  -----  \n 0   PassengerId  891 non-null    int64  \n 1   Survived     891 non-null    int64  \n 2   Pclass       891 non-null    int64  \n 3   Name         891 non-null    object \n 4   Sex          891 non-null    object \n 5   Age          714 non-null    float64\n 6   SibSp        891 non-null    int64  \n 7   Parch        891 non-null    int64  \n 8   Ticket       891 non-null    object \n 9   Fare         891 non-null    float64\n 10  Cabin        204 non-null    object \n 11  Embarked     889 non-null    object \ndtypes: float64(2), int64(5), object(5)\nmemory usage: 83.7+ KB\n<class 'pandas.core.frame.DataFrame'>\nRangeIndex: 418 entries, 0 to 417\nData columns (total 11 columns):\n #   Column       Non-Null Count  Dtype  \n---  ------       --------------  -----  \n 0   PassengerId  418 non-null    int64  \n 1   Pclass       418 non-null    int64  \n 2   Name         418 non-null    object \n 3   Sex          418 non-null    object \n 4   Age          332 non-null    float64\n 5   SibSp        418 non-null    int64  \n 6   Parch        418 non-null    int64  \n 7   Ticket       418 non-null    object \n 8   Fare         417 non-null    float64\n 9   Cabin        91 non-null     object \n 10  Embarked     418 non-null    object \ndtypes: float64(2), int64(4), object(5)\nmemory usage: 36.0+ KB\n"
    }
   ],
   "source": [
    "train.info()\n",
    "test.info()"
   ]
  },
  {
   "cell_type": "markdown",
   "metadata": {},
   "source": [
    "1.4 Calculer le taux global de survie"
   ],
   "execution_count": null,
   "outputs": []
  },
  {
   "cell_type": "code",
   "execution_count": 5,
   "metadata": {},
   "outputs": [
    {
     "output_type": "execute_result",
     "data": {
      "text/plain": "0.3838383838383838"
     },
     "metadata": {},
     "execution_count": 5
    }
   ],
   "source": [
    "train['Survived'].sum() / train['Survived'].count()"
   ]
  },
  {
   "cell_type": "markdown",
   "metadata": {},
   "source": [
    "#### Question 1 : Quel Travail voyez-vous pour que les données soient prêtes à faire tourner dans un modèle ?\n",
    "Définir notre norme de données\n",
    "\n",
    "\n",
    "\n",
    "#### Question 2 : Quelle différence y-a-t'il entre les données train et les données test ? \n",
    "Les données de test n'ont pas la colonne survived\n",
    "\n",
    "\n",
    "\n",
    "#### Question 3 : Quel est le rôle de ces deux sets de données ?\n",
    "Faire une estimation de nombre potentielle de mort dans le test\n"
   ],
   "execution_count": null,
   "outputs": []
  },
  {
   "cell_type": "markdown",
   "metadata": {
    "_cell_guid": "f9595646-65c9-6fc4-395f-0befc4d122ce",
    "_uuid": "66273d64a2548d7a88464ab2a73dbdedfbdc488b"
   },
   "source": [
    "## 2. Analyse des features"
   ],
   "execution_count": null,
   "outputs": []
  },
  {
   "cell_type": "markdown",
   "metadata": {
    "_cell_guid": "9b4c278b-aaca-e92c-ba77-b9b48379d1f1",
    "_uuid": "c2b62e14d493c270ec8df9f3af1938c479361ef3"
   },
   "source": [
    "2.1 Analyser l'effet de la variable Classe sur le taux de survie, en affichant le % de survie par classe"
   ],
   "execution_count": null,
   "outputs": []
  },
  {
   "cell_type": "code",
   "execution_count": 6,
   "metadata": {},
   "outputs": [
    {
     "output_type": "execute_result",
     "data": {
      "text/plain": "         Survived\nPclass           \n1       62.962963\n2       47.282609\n3       24.236253",
      "text/html": "<div>\n<style scoped>\n    .dataframe tbody tr th:only-of-type {\n        vertical-align: middle;\n    }\n\n    .dataframe tbody tr th {\n        vertical-align: top;\n    }\n\n    .dataframe thead th {\n        text-align: right;\n    }\n</style>\n<table border=\"1\" class=\"dataframe\">\n  <thead>\n    <tr style=\"text-align: right;\">\n      <th></th>\n      <th>Survived</th>\n    </tr>\n    <tr>\n      <th>Pclass</th>\n      <th></th>\n    </tr>\n  </thead>\n  <tbody>\n    <tr>\n      <th>1</th>\n      <td>62.962963</td>\n    </tr>\n    <tr>\n      <th>2</th>\n      <td>47.282609</td>\n    </tr>\n    <tr>\n      <th>3</th>\n      <td>24.236253</td>\n    </tr>\n  </tbody>\n</table>\n</div>"
     },
     "metadata": {},
     "execution_count": 6
    }
   ],
   "source": [
    "train[['Survived','Pclass']].groupby(['Pclass']).sum() / train[['Survived','Pclass']].groupby(['Pclass']).count() * 100"
   ]
  },
  {
   "cell_type": "markdown",
   "metadata": {
    "_cell_guid": "4680d950-cf7d-a6ae-e813-535e2247d88e",
    "_uuid": "f02533e7b85bba0cca7fcf2cc598c8da92d7646d"
   },
   "source": [
    "2.2 Analyser l'effet de la variable Genre (Sex) sur le taux de survie, en affichant le % de survie par classe"
   ],
   "execution_count": null,
   "outputs": []
  },
  {
   "cell_type": "code",
   "execution_count": 7,
   "metadata": {
    "_cell_guid": "4680d950-cf7d-a6ae-e813-535e2247d88e",
    "_uuid": "f02533e7b85bba0cca7fcf2cc598c8da92d7646d"
   },
   "outputs": [
    {
     "output_type": "execute_result",
     "data": {
      "text/plain": "                Survived\nSex    Pclass           \nfemale 1       96.808511\n       2       92.105263\n       3       50.000000\nmale   1       36.885246\n       2       15.740741\n       3       13.544669",
      "text/html": "<div>\n<style scoped>\n    .dataframe tbody tr th:only-of-type {\n        vertical-align: middle;\n    }\n\n    .dataframe tbody tr th {\n        vertical-align: top;\n    }\n\n    .dataframe thead th {\n        text-align: right;\n    }\n</style>\n<table border=\"1\" class=\"dataframe\">\n  <thead>\n    <tr style=\"text-align: right;\">\n      <th></th>\n      <th></th>\n      <th>Survived</th>\n    </tr>\n    <tr>\n      <th>Sex</th>\n      <th>Pclass</th>\n      <th></th>\n    </tr>\n  </thead>\n  <tbody>\n    <tr>\n      <th rowspan=\"3\" valign=\"top\">female</th>\n      <th>1</th>\n      <td>96.808511</td>\n    </tr>\n    <tr>\n      <th>2</th>\n      <td>92.105263</td>\n    </tr>\n    <tr>\n      <th>3</th>\n      <td>50.000000</td>\n    </tr>\n    <tr>\n      <th rowspan=\"3\" valign=\"top\">male</th>\n      <th>1</th>\n      <td>36.885246</td>\n    </tr>\n    <tr>\n      <th>2</th>\n      <td>15.740741</td>\n    </tr>\n    <tr>\n      <th>3</th>\n      <td>13.544669</td>\n    </tr>\n  </tbody>\n</table>\n</div>"
     },
     "metadata": {},
     "execution_count": 7
    }
   ],
   "source": [
    "train[['Survived','Sex','Pclass']].groupby(['Sex','Pclass']).sum() / train[['Survived','Sex','Pclass']].groupby(['Sex','Pclass']).count() * 100"
   ]
  },
  {
   "cell_type": "markdown",
   "metadata": {
    "_cell_guid": "7c58b7ee-d6a1-0cc9-2346-81c47846a54a",
    "_uuid": "88185e9222c26d5d23caaeb209c18710a231b5f9"
   },
   "source": [
    "2.3 Calculer une nouvelle colonne FamilySize contenant la taille de la famille, pour les DataFrame train et Test. Afficher pour 10 exemples l'Id du passager, le nom, l'age, le sexe et la taille de la famille."
   ],
   "execution_count": null,
   "outputs": []
  },
  {
   "cell_type": "code",
   "execution_count": 8,
   "metadata": {
    "_cell_guid": "1a537f10-7cec-d0b7-8a34-fa9975655190",
    "_uuid": "ccc4a4cf7624dd4be450fd62ca3ad478d4e75696"
   },
   "outputs": [
    {
     "output_type": "execute_result",
     "data": {
      "text/plain": "   PassengerId                                          Name   Age  FamilySize\n0          892                              Kelly, Mr. James  34.5           1\n1          893              Wilkes, Mrs. James (Ellen Needs)  47.0           2\n2          894                     Myles, Mr. Thomas Francis  62.0           1\n3          895                              Wirz, Mr. Albert  27.0           1\n4          896  Hirvonen, Mrs. Alexander (Helga E Lindqvist)  22.0           3\n5          897                    Svensson, Mr. Johan Cervin  14.0           1\n6          898                          Connolly, Miss. Kate  30.0           1\n7          899                  Caldwell, Mr. Albert Francis  26.0           3\n8          900     Abrahim, Mrs. Joseph (Sophie Halaut Easu)  18.0           1\n9          901                       Davies, Mr. John Samuel  21.0           3",
      "text/html": "<div>\n<style scoped>\n    .dataframe tbody tr th:only-of-type {\n        vertical-align: middle;\n    }\n\n    .dataframe tbody tr th {\n        vertical-align: top;\n    }\n\n    .dataframe thead th {\n        text-align: right;\n    }\n</style>\n<table border=\"1\" class=\"dataframe\">\n  <thead>\n    <tr style=\"text-align: right;\">\n      <th></th>\n      <th>PassengerId</th>\n      <th>Name</th>\n      <th>Age</th>\n      <th>FamilySize</th>\n    </tr>\n  </thead>\n  <tbody>\n    <tr>\n      <th>0</th>\n      <td>892</td>\n      <td>Kelly, Mr. James</td>\n      <td>34.5</td>\n      <td>1</td>\n    </tr>\n    <tr>\n      <th>1</th>\n      <td>893</td>\n      <td>Wilkes, Mrs. James (Ellen Needs)</td>\n      <td>47.0</td>\n      <td>2</td>\n    </tr>\n    <tr>\n      <th>2</th>\n      <td>894</td>\n      <td>Myles, Mr. Thomas Francis</td>\n      <td>62.0</td>\n      <td>1</td>\n    </tr>\n    <tr>\n      <th>3</th>\n      <td>895</td>\n      <td>Wirz, Mr. Albert</td>\n      <td>27.0</td>\n      <td>1</td>\n    </tr>\n    <tr>\n      <th>4</th>\n      <td>896</td>\n      <td>Hirvonen, Mrs. Alexander (Helga E Lindqvist)</td>\n      <td>22.0</td>\n      <td>3</td>\n    </tr>\n    <tr>\n      <th>5</th>\n      <td>897</td>\n      <td>Svensson, Mr. Johan Cervin</td>\n      <td>14.0</td>\n      <td>1</td>\n    </tr>\n    <tr>\n      <th>6</th>\n      <td>898</td>\n      <td>Connolly, Miss. Kate</td>\n      <td>30.0</td>\n      <td>1</td>\n    </tr>\n    <tr>\n      <th>7</th>\n      <td>899</td>\n      <td>Caldwell, Mr. Albert Francis</td>\n      <td>26.0</td>\n      <td>3</td>\n    </tr>\n    <tr>\n      <th>8</th>\n      <td>900</td>\n      <td>Abrahim, Mrs. Joseph (Sophie Halaut Easu)</td>\n      <td>18.0</td>\n      <td>1</td>\n    </tr>\n    <tr>\n      <th>9</th>\n      <td>901</td>\n      <td>Davies, Mr. John Samuel</td>\n      <td>21.0</td>\n      <td>3</td>\n    </tr>\n  </tbody>\n</table>\n</div>"
     },
     "metadata": {},
     "execution_count": 8
    }
   ],
   "source": [
    "train['FamilySize'] = train['SibSp'] + train['Parch'] + 1\n",
    "train[['PassengerId','Name','Age','FamilySize']].head(10)\n",
    "\n",
    "test['FamilySize'] = test['SibSp'] + test['Parch'] + 1\n",
    "test[['PassengerId','Name','Age','FamilySize']].head(10)"
   ]
  },
  {
   "cell_type": "markdown",
   "metadata": {},
   "source": [
    "2.4 Visualisez le nombre de personnes et le taux de survie par taille de famille."
   ],
   "execution_count": null,
   "outputs": []
  },
  {
   "cell_type": "code",
   "execution_count": 9,
   "metadata": {
    "_cell_guid": "1a537f10-7cec-d0b7-8a34-fa9975655190",
    "_uuid": "ccc4a4cf7624dd4be450fd62ca3ad478d4e75696"
   },
   "outputs": [
    {
     "output_type": "execute_result",
     "data": {
      "text/plain": "            Survived\nFamilySize          \n1           0.303538\n2           0.552795\n3           0.578431\n4           0.724138\n5           0.200000\n6           0.136364\n7           0.333333\n8           0.000000\n11          0.000000",
      "text/html": "<div>\n<style scoped>\n    .dataframe tbody tr th:only-of-type {\n        vertical-align: middle;\n    }\n\n    .dataframe tbody tr th {\n        vertical-align: top;\n    }\n\n    .dataframe thead th {\n        text-align: right;\n    }\n</style>\n<table border=\"1\" class=\"dataframe\">\n  <thead>\n    <tr style=\"text-align: right;\">\n      <th></th>\n      <th>Survived</th>\n    </tr>\n    <tr>\n      <th>FamilySize</th>\n      <th></th>\n    </tr>\n  </thead>\n  <tbody>\n    <tr>\n      <th>1</th>\n      <td>0.303538</td>\n    </tr>\n    <tr>\n      <th>2</th>\n      <td>0.552795</td>\n    </tr>\n    <tr>\n      <th>3</th>\n      <td>0.578431</td>\n    </tr>\n    <tr>\n      <th>4</th>\n      <td>0.724138</td>\n    </tr>\n    <tr>\n      <th>5</th>\n      <td>0.200000</td>\n    </tr>\n    <tr>\n      <th>6</th>\n      <td>0.136364</td>\n    </tr>\n    <tr>\n      <th>7</th>\n      <td>0.333333</td>\n    </tr>\n    <tr>\n      <th>8</th>\n      <td>0.000000</td>\n    </tr>\n    <tr>\n      <th>11</th>\n      <td>0.000000</td>\n    </tr>\n  </tbody>\n</table>\n</div>"
     },
     "metadata": {},
     "execution_count": 9
    }
   ],
   "source": [
    "train[['FamilySize','Survived']].groupby(['FamilySize']).mean()"
   ]
  },
  {
   "cell_type": "markdown",
   "metadata": {
    "_cell_guid": "7c58b7ee-d6a1-0cc9-2346-81c47846a54a",
    "_uuid": "88185e9222c26d5d23caaeb209c18710a231b5f9"
   },
   "source": [
    "2.5 Calculer une nouvelle colonne IsAlone indiquant si le passager est seul ou pas, pour les DataFrame train et Test. Afficher pour 10 exemples l'Id du passager, le nom, l'age, le sexe et le status IsAlone."
   ],
   "execution_count": null,
   "outputs": []
  },
  {
   "cell_type": "code",
   "execution_count": 10,
   "metadata": {
    "_cell_guid": "8c35e945-c928-e3bc-bd9c-d6ddb287e4c9",
    "_uuid": "87f79dc0711c29f39c0db1a4f7a2e8a84c0c7edb"
   },
   "outputs": [
    {
     "output_type": "execute_result",
     "data": {
      "text/plain": "   PassengerId                                          Name   Age     Sex  \\\n0          892                              Kelly, Mr. James  34.5    male   \n1          893              Wilkes, Mrs. James (Ellen Needs)  47.0  female   \n2          894                     Myles, Mr. Thomas Francis  62.0    male   \n3          895                              Wirz, Mr. Albert  27.0    male   \n4          896  Hirvonen, Mrs. Alexander (Helga E Lindqvist)  22.0  female   \n5          897                    Svensson, Mr. Johan Cervin  14.0    male   \n6          898                          Connolly, Miss. Kate  30.0  female   \n7          899                  Caldwell, Mr. Albert Francis  26.0    male   \n8          900     Abrahim, Mrs. Joseph (Sophie Halaut Easu)  18.0  female   \n9          901                       Davies, Mr. John Samuel  21.0    male   \n\n   isAlone  \n0     True  \n1    False  \n2     True  \n3     True  \n4    False  \n5     True  \n6     True  \n7    False  \n8     True  \n9    False  ",
      "text/html": "<div>\n<style scoped>\n    .dataframe tbody tr th:only-of-type {\n        vertical-align: middle;\n    }\n\n    .dataframe tbody tr th {\n        vertical-align: top;\n    }\n\n    .dataframe thead th {\n        text-align: right;\n    }\n</style>\n<table border=\"1\" class=\"dataframe\">\n  <thead>\n    <tr style=\"text-align: right;\">\n      <th></th>\n      <th>PassengerId</th>\n      <th>Name</th>\n      <th>Age</th>\n      <th>Sex</th>\n      <th>isAlone</th>\n    </tr>\n  </thead>\n  <tbody>\n    <tr>\n      <th>0</th>\n      <td>892</td>\n      <td>Kelly, Mr. James</td>\n      <td>34.5</td>\n      <td>male</td>\n      <td>True</td>\n    </tr>\n    <tr>\n      <th>1</th>\n      <td>893</td>\n      <td>Wilkes, Mrs. James (Ellen Needs)</td>\n      <td>47.0</td>\n      <td>female</td>\n      <td>False</td>\n    </tr>\n    <tr>\n      <th>2</th>\n      <td>894</td>\n      <td>Myles, Mr. Thomas Francis</td>\n      <td>62.0</td>\n      <td>male</td>\n      <td>True</td>\n    </tr>\n    <tr>\n      <th>3</th>\n      <td>895</td>\n      <td>Wirz, Mr. Albert</td>\n      <td>27.0</td>\n      <td>male</td>\n      <td>True</td>\n    </tr>\n    <tr>\n      <th>4</th>\n      <td>896</td>\n      <td>Hirvonen, Mrs. Alexander (Helga E Lindqvist)</td>\n      <td>22.0</td>\n      <td>female</td>\n      <td>False</td>\n    </tr>\n    <tr>\n      <th>5</th>\n      <td>897</td>\n      <td>Svensson, Mr. Johan Cervin</td>\n      <td>14.0</td>\n      <td>male</td>\n      <td>True</td>\n    </tr>\n    <tr>\n      <th>6</th>\n      <td>898</td>\n      <td>Connolly, Miss. Kate</td>\n      <td>30.0</td>\n      <td>female</td>\n      <td>True</td>\n    </tr>\n    <tr>\n      <th>7</th>\n      <td>899</td>\n      <td>Caldwell, Mr. Albert Francis</td>\n      <td>26.0</td>\n      <td>male</td>\n      <td>False</td>\n    </tr>\n    <tr>\n      <th>8</th>\n      <td>900</td>\n      <td>Abrahim, Mrs. Joseph (Sophie Halaut Easu)</td>\n      <td>18.0</td>\n      <td>female</td>\n      <td>True</td>\n    </tr>\n    <tr>\n      <th>9</th>\n      <td>901</td>\n      <td>Davies, Mr. John Samuel</td>\n      <td>21.0</td>\n      <td>male</td>\n      <td>False</td>\n    </tr>\n  </tbody>\n</table>\n</div>"
     },
     "metadata": {},
     "execution_count": 10
    }
   ],
   "source": [
    "train['isAlone'] = train['FamilySize'].map( lambda x: x == 1)\n",
    "train[['PassengerId','Name','Age','Sex', 'isAlone']].head(10)\n",
    "\n",
    "test['isAlone'] = test['FamilySize'].map( lambda x: x == 1)\n",
    "test[['PassengerId','Name','Age','Sex', 'isAlone']].head(10)"
   ]
  },
  {
   "cell_type": "markdown",
   "metadata": {},
   "source": [
    "2.6 Visualisez le nombre de personnes et le taux de survie par statut seul ou pas."
   ],
   "execution_count": null,
   "outputs": []
  },
  {
   "cell_type": "code",
   "execution_count": 11,
   "metadata": {
    "_cell_guid": "8c35e945-c928-e3bc-bd9c-d6ddb287e4c9",
    "_uuid": "87f79dc0711c29f39c0db1a4f7a2e8a84c0c7edb"
   },
   "outputs": [
    {
     "output_type": "execute_result",
     "data": {
      "text/plain": "         Survived\nisAlone          \nFalse    0.505650\nTrue     0.303538",
      "text/html": "<div>\n<style scoped>\n    .dataframe tbody tr th:only-of-type {\n        vertical-align: middle;\n    }\n\n    .dataframe tbody tr th {\n        vertical-align: top;\n    }\n\n    .dataframe thead th {\n        text-align: right;\n    }\n</style>\n<table border=\"1\" class=\"dataframe\">\n  <thead>\n    <tr style=\"text-align: right;\">\n      <th></th>\n      <th>Survived</th>\n    </tr>\n    <tr>\n      <th>isAlone</th>\n      <th></th>\n    </tr>\n  </thead>\n  <tbody>\n    <tr>\n      <th>False</th>\n      <td>0.505650</td>\n    </tr>\n    <tr>\n      <th>True</th>\n      <td>0.303538</td>\n    </tr>\n  </tbody>\n</table>\n</div>"
     },
     "metadata": {},
     "execution_count": 11
    }
   ],
   "source": [
    "train[['isAlone','Survived']].groupby(['isAlone']).mean()"
   ]
  },
  {
   "cell_type": "markdown",
   "metadata": {},
   "source": [
    "### Question 1 : La variable Classe est-elle utile pour prévoir la survie ? Pourquoi ?\n",
    "Oui, \n",
    "\n",
    "\n",
    "### Question 2 : Même question pour la variable Sex \n",
    "Oui, car les femmes et les enfants sont les premiers à être évacués\n",
    "\n",
    "### Question 3 : Comment traiter le variables liées à la famille du passager ?\n",
    "Je ne sais pas\n",
    "\n"
   ],
   "execution_count": null,
   "outputs": []
  },
  {
   "cell_type": "markdown",
   "metadata": {},
   "source": [
    "## 3. Traitement des données manquantes (à faire sur les données Train et Test)"
   ],
   "execution_count": null,
   "outputs": []
  },
  {
   "cell_type": "markdown",
   "metadata": {
    "_cell_guid": "8aa419c0-6614-7efc-7797-97f4a5158b19",
    "_uuid": "dd18a31086cfeca6330b05f83caf3cc02f687253"
   },
   "source": [
    "3.1 La variable \"Embarked\" possède des valeurs nulles, compléter par la valeur majoritaire (S)."
   ],
   "execution_count": null,
   "outputs": []
  },
  {
   "cell_type": "code",
   "execution_count": 13,
   "metadata": {
    "_cell_guid": "0e70e9af-d7cc-8c40-b7d4-2643889c376d",
    "_uuid": "b4f7ccb3df98da6915bda1c7c225b905fc37845b"
   },
   "outputs": [
    {
     "output_type": "execute_result",
     "data": {
      "text/plain": "     PassengerId  Survived  Pclass  \\\n292          293         0       2   \n398          399         0       2   \n798          799         0       3   \n391          392         1       3   \n447          448         1       1   \n408          409         0       3   \n740          741         1       1   \n299          300         1       1   \n115          116         0       3   \n771          772         0       3   \n230          231         1       1   \n280          281         0       3   \n648          649         0       3   \n204          205         1       3   \n748          749         0       1   \n123          124         1       2   \n77            78         0       3   \n154          155         0       3   \n16            17         0       3   \n258          259         1       1   \n\n                                                Name     Sex   Age  SibSp  \\\n292                           Levy, Mr. Rene Jacques    male  36.0      0   \n398                                 Pain, Dr. Alfred    male  23.0      0   \n798                     Ibrahim Shawah, Mr. Yousseff    male  30.0      0   \n391                           Jansson, Mr. Carl Olof    male  21.0      0   \n447                      Seward, Mr. Frederic Kimber    male  34.0      0   \n408                Birkeland, Mr. Hans Martin Monsen    male  21.0      0   \n740                      Hawksford, Mr. Walter James    male   NaN      0   \n299  Baxter, Mrs. James (Helene DeLaudeniere Chaput)  female  50.0      0   \n115                            Pekoniemi, Mr. Edvard    male  21.0      0   \n771                          Jensen, Mr. Niels Peder    male  48.0      0   \n230     Harris, Mrs. Henry Birkhardt (Irene Wallach)  female  35.0      1   \n280                                 Duane, Mr. Frank    male  65.0      0   \n648                               Willey, Mr. Edward    male   NaN      0   \n204                         Cohen, Mr. Gurshon \"Gus\"    male  18.0      0   \n748                        Marvin, Mr. Daniel Warner    male  19.0      1   \n123                              Webber, Miss. Susan  female  32.5      0   \n77                          Moutal, Mr. Rahamin Haim    male   NaN      0   \n154                            Olsen, Mr. Ole Martin    male   NaN      0   \n16                              Rice, Master. Eugene    male   2.0      4   \n258                                 Ward, Miss. Anna  female  35.0      0   \n\n     Parch             Ticket      Fare    Cabin Embarked  FamilySize  isAlone  \n292      0      SC/Paris 2163   12.8750        D        C           1     True  \n398      0             244278   10.5000      NaN        S           1     True  \n798      0               2685    7.2292      NaN        C           1     True  \n391      0             350034    7.7958      NaN        S           1     True  \n447      0             113794   26.5500      NaN        S           1     True  \n408      0             312992    7.7750      NaN        S           1     True  \n740      0              16988   30.0000      D45        S           1     True  \n299      1           PC 17558  247.5208  B58 B60        C           2    False  \n115      0  STON/O 2. 3101294    7.9250      NaN        S           1     True  \n771      0             350047    7.8542      NaN        S           1     True  \n230      0              36973   83.4750      C83        S           2    False  \n280      0             336439    7.7500      NaN        Q           1     True  \n648      0      S.O./P.P. 751    7.5500      NaN        S           1     True  \n204      0           A/5 3540    8.0500      NaN        S           1     True  \n748      0             113773   53.1000      D30        S           2    False  \n123      0              27267   13.0000     E101        S           1     True  \n77       0             374746    8.0500      NaN        S           1     True  \n154      0          Fa 265302    7.3125      NaN        S           1     True  \n16       1             382652   29.1250      NaN        Q           6    False  \n258      0           PC 17755  512.3292      NaN        C           1     True  ",
      "text/html": "<div>\n<style scoped>\n    .dataframe tbody tr th:only-of-type {\n        vertical-align: middle;\n    }\n\n    .dataframe tbody tr th {\n        vertical-align: top;\n    }\n\n    .dataframe thead th {\n        text-align: right;\n    }\n</style>\n<table border=\"1\" class=\"dataframe\">\n  <thead>\n    <tr style=\"text-align: right;\">\n      <th></th>\n      <th>PassengerId</th>\n      <th>Survived</th>\n      <th>Pclass</th>\n      <th>Name</th>\n      <th>Sex</th>\n      <th>Age</th>\n      <th>SibSp</th>\n      <th>Parch</th>\n      <th>Ticket</th>\n      <th>Fare</th>\n      <th>Cabin</th>\n      <th>Embarked</th>\n      <th>FamilySize</th>\n      <th>isAlone</th>\n    </tr>\n  </thead>\n  <tbody>\n    <tr>\n      <th>292</th>\n      <td>293</td>\n      <td>0</td>\n      <td>2</td>\n      <td>Levy, Mr. Rene Jacques</td>\n      <td>male</td>\n      <td>36.0</td>\n      <td>0</td>\n      <td>0</td>\n      <td>SC/Paris 2163</td>\n      <td>12.8750</td>\n      <td>D</td>\n      <td>C</td>\n      <td>1</td>\n      <td>True</td>\n    </tr>\n    <tr>\n      <th>398</th>\n      <td>399</td>\n      <td>0</td>\n      <td>2</td>\n      <td>Pain, Dr. Alfred</td>\n      <td>male</td>\n      <td>23.0</td>\n      <td>0</td>\n      <td>0</td>\n      <td>244278</td>\n      <td>10.5000</td>\n      <td>NaN</td>\n      <td>S</td>\n      <td>1</td>\n      <td>True</td>\n    </tr>\n    <tr>\n      <th>798</th>\n      <td>799</td>\n      <td>0</td>\n      <td>3</td>\n      <td>Ibrahim Shawah, Mr. Yousseff</td>\n      <td>male</td>\n      <td>30.0</td>\n      <td>0</td>\n      <td>0</td>\n      <td>2685</td>\n      <td>7.2292</td>\n      <td>NaN</td>\n      <td>C</td>\n      <td>1</td>\n      <td>True</td>\n    </tr>\n    <tr>\n      <th>391</th>\n      <td>392</td>\n      <td>1</td>\n      <td>3</td>\n      <td>Jansson, Mr. Carl Olof</td>\n      <td>male</td>\n      <td>21.0</td>\n      <td>0</td>\n      <td>0</td>\n      <td>350034</td>\n      <td>7.7958</td>\n      <td>NaN</td>\n      <td>S</td>\n      <td>1</td>\n      <td>True</td>\n    </tr>\n    <tr>\n      <th>447</th>\n      <td>448</td>\n      <td>1</td>\n      <td>1</td>\n      <td>Seward, Mr. Frederic Kimber</td>\n      <td>male</td>\n      <td>34.0</td>\n      <td>0</td>\n      <td>0</td>\n      <td>113794</td>\n      <td>26.5500</td>\n      <td>NaN</td>\n      <td>S</td>\n      <td>1</td>\n      <td>True</td>\n    </tr>\n    <tr>\n      <th>408</th>\n      <td>409</td>\n      <td>0</td>\n      <td>3</td>\n      <td>Birkeland, Mr. Hans Martin Monsen</td>\n      <td>male</td>\n      <td>21.0</td>\n      <td>0</td>\n      <td>0</td>\n      <td>312992</td>\n      <td>7.7750</td>\n      <td>NaN</td>\n      <td>S</td>\n      <td>1</td>\n      <td>True</td>\n    </tr>\n    <tr>\n      <th>740</th>\n      <td>741</td>\n      <td>1</td>\n      <td>1</td>\n      <td>Hawksford, Mr. Walter James</td>\n      <td>male</td>\n      <td>NaN</td>\n      <td>0</td>\n      <td>0</td>\n      <td>16988</td>\n      <td>30.0000</td>\n      <td>D45</td>\n      <td>S</td>\n      <td>1</td>\n      <td>True</td>\n    </tr>\n    <tr>\n      <th>299</th>\n      <td>300</td>\n      <td>1</td>\n      <td>1</td>\n      <td>Baxter, Mrs. James (Helene DeLaudeniere Chaput)</td>\n      <td>female</td>\n      <td>50.0</td>\n      <td>0</td>\n      <td>1</td>\n      <td>PC 17558</td>\n      <td>247.5208</td>\n      <td>B58 B60</td>\n      <td>C</td>\n      <td>2</td>\n      <td>False</td>\n    </tr>\n    <tr>\n      <th>115</th>\n      <td>116</td>\n      <td>0</td>\n      <td>3</td>\n      <td>Pekoniemi, Mr. Edvard</td>\n      <td>male</td>\n      <td>21.0</td>\n      <td>0</td>\n      <td>0</td>\n      <td>STON/O 2. 3101294</td>\n      <td>7.9250</td>\n      <td>NaN</td>\n      <td>S</td>\n      <td>1</td>\n      <td>True</td>\n    </tr>\n    <tr>\n      <th>771</th>\n      <td>772</td>\n      <td>0</td>\n      <td>3</td>\n      <td>Jensen, Mr. Niels Peder</td>\n      <td>male</td>\n      <td>48.0</td>\n      <td>0</td>\n      <td>0</td>\n      <td>350047</td>\n      <td>7.8542</td>\n      <td>NaN</td>\n      <td>S</td>\n      <td>1</td>\n      <td>True</td>\n    </tr>\n    <tr>\n      <th>230</th>\n      <td>231</td>\n      <td>1</td>\n      <td>1</td>\n      <td>Harris, Mrs. Henry Birkhardt (Irene Wallach)</td>\n      <td>female</td>\n      <td>35.0</td>\n      <td>1</td>\n      <td>0</td>\n      <td>36973</td>\n      <td>83.4750</td>\n      <td>C83</td>\n      <td>S</td>\n      <td>2</td>\n      <td>False</td>\n    </tr>\n    <tr>\n      <th>280</th>\n      <td>281</td>\n      <td>0</td>\n      <td>3</td>\n      <td>Duane, Mr. Frank</td>\n      <td>male</td>\n      <td>65.0</td>\n      <td>0</td>\n      <td>0</td>\n      <td>336439</td>\n      <td>7.7500</td>\n      <td>NaN</td>\n      <td>Q</td>\n      <td>1</td>\n      <td>True</td>\n    </tr>\n    <tr>\n      <th>648</th>\n      <td>649</td>\n      <td>0</td>\n      <td>3</td>\n      <td>Willey, Mr. Edward</td>\n      <td>male</td>\n      <td>NaN</td>\n      <td>0</td>\n      <td>0</td>\n      <td>S.O./P.P. 751</td>\n      <td>7.5500</td>\n      <td>NaN</td>\n      <td>S</td>\n      <td>1</td>\n      <td>True</td>\n    </tr>\n    <tr>\n      <th>204</th>\n      <td>205</td>\n      <td>1</td>\n      <td>3</td>\n      <td>Cohen, Mr. Gurshon \"Gus\"</td>\n      <td>male</td>\n      <td>18.0</td>\n      <td>0</td>\n      <td>0</td>\n      <td>A/5 3540</td>\n      <td>8.0500</td>\n      <td>NaN</td>\n      <td>S</td>\n      <td>1</td>\n      <td>True</td>\n    </tr>\n    <tr>\n      <th>748</th>\n      <td>749</td>\n      <td>0</td>\n      <td>1</td>\n      <td>Marvin, Mr. Daniel Warner</td>\n      <td>male</td>\n      <td>19.0</td>\n      <td>1</td>\n      <td>0</td>\n      <td>113773</td>\n      <td>53.1000</td>\n      <td>D30</td>\n      <td>S</td>\n      <td>2</td>\n      <td>False</td>\n    </tr>\n    <tr>\n      <th>123</th>\n      <td>124</td>\n      <td>1</td>\n      <td>2</td>\n      <td>Webber, Miss. Susan</td>\n      <td>female</td>\n      <td>32.5</td>\n      <td>0</td>\n      <td>0</td>\n      <td>27267</td>\n      <td>13.0000</td>\n      <td>E101</td>\n      <td>S</td>\n      <td>1</td>\n      <td>True</td>\n    </tr>\n    <tr>\n      <th>77</th>\n      <td>78</td>\n      <td>0</td>\n      <td>3</td>\n      <td>Moutal, Mr. Rahamin Haim</td>\n      <td>male</td>\n      <td>NaN</td>\n      <td>0</td>\n      <td>0</td>\n      <td>374746</td>\n      <td>8.0500</td>\n      <td>NaN</td>\n      <td>S</td>\n      <td>1</td>\n      <td>True</td>\n    </tr>\n    <tr>\n      <th>154</th>\n      <td>155</td>\n      <td>0</td>\n      <td>3</td>\n      <td>Olsen, Mr. Ole Martin</td>\n      <td>male</td>\n      <td>NaN</td>\n      <td>0</td>\n      <td>0</td>\n      <td>Fa 265302</td>\n      <td>7.3125</td>\n      <td>NaN</td>\n      <td>S</td>\n      <td>1</td>\n      <td>True</td>\n    </tr>\n    <tr>\n      <th>16</th>\n      <td>17</td>\n      <td>0</td>\n      <td>3</td>\n      <td>Rice, Master. Eugene</td>\n      <td>male</td>\n      <td>2.0</td>\n      <td>4</td>\n      <td>1</td>\n      <td>382652</td>\n      <td>29.1250</td>\n      <td>NaN</td>\n      <td>Q</td>\n      <td>6</td>\n      <td>False</td>\n    </tr>\n    <tr>\n      <th>258</th>\n      <td>259</td>\n      <td>1</td>\n      <td>1</td>\n      <td>Ward, Miss. Anna</td>\n      <td>female</td>\n      <td>35.0</td>\n      <td>0</td>\n      <td>0</td>\n      <td>PC 17755</td>\n      <td>512.3292</td>\n      <td>NaN</td>\n      <td>C</td>\n      <td>1</td>\n      <td>True</td>\n    </tr>\n  </tbody>\n</table>\n</div>"
     },
     "metadata": {},
     "execution_count": 13
    }
   ],
   "source": [
    "train['Embarked'].fillna('S', inplace=True)\n",
    "train.sample(20)"
   ]
  },
  {
   "cell_type": "markdown",
   "metadata": {},
   "source": [
    "3.2 Afficher l'influence du port d'embarquement sur la Survie "
   ],
   "execution_count": null,
   "outputs": []
  },
  {
   "cell_type": "code",
   "execution_count": 17,
   "metadata": {
    "_cell_guid": "0e70e9af-d7cc-8c40-b7d4-2643889c376d",
    "_uuid": "b4f7ccb3df98da6915bda1c7c225b905fc37845b"
   },
   "outputs": [
    {
     "output_type": "execute_result",
     "data": {
      "text/plain": "           Survived\nEmbarked           \nC         55.357143\nQ         38.961039\nS         33.900929",
      "text/html": "<div>\n<style scoped>\n    .dataframe tbody tr th:only-of-type {\n        vertical-align: middle;\n    }\n\n    .dataframe tbody tr th {\n        vertical-align: top;\n    }\n\n    .dataframe thead th {\n        text-align: right;\n    }\n</style>\n<table border=\"1\" class=\"dataframe\">\n  <thead>\n    <tr style=\"text-align: right;\">\n      <th></th>\n      <th>Survived</th>\n    </tr>\n    <tr>\n      <th>Embarked</th>\n      <th></th>\n    </tr>\n  </thead>\n  <tbody>\n    <tr>\n      <th>C</th>\n      <td>55.357143</td>\n    </tr>\n    <tr>\n      <th>Q</th>\n      <td>38.961039</td>\n    </tr>\n    <tr>\n      <th>S</th>\n      <td>33.900929</td>\n    </tr>\n  </tbody>\n</table>\n</div>"
     },
     "metadata": {},
     "execution_count": 17
    }
   ],
   "source": [
    "train[['Embarked','Survived']].groupby(['Embarked']).mean() * 100"
   ]
  },
  {
   "cell_type": "markdown",
   "metadata": {
    "_cell_guid": "e08c9ee8-d6d1-99b7-38bd-f0042c18a5d9",
    "_uuid": "bbeb369d4bb1b086fcc3257218fdeeb6bcdb53c0"
   },
   "source": [
    "3.3 La variable \"Fare\" (prix du ticket) possède des valeurs manquantes. Remplacer ces valeurs par la valeur médiane."
   ],
   "execution_count": null,
   "outputs": []
  },
  {
   "cell_type": "code",
   "execution_count": 48,
   "metadata": {
    "_cell_guid": "a21335bd-4e8d-66e8-e6a5-5d2173b72d3b",
    "_uuid": "f04975f236aad78d3f93812512088404b5c9280e"
   },
   "outputs": [
    {
     "output_type": "execute_result",
     "data": {
      "text/plain": "0"
     },
     "metadata": {},
     "execution_count": 48
    }
   ],
   "source": [
    "fareMedian=train[['Fare']].median()\n",
    "train[['Fare']].fillna(fareMedian, inplace=True)"
   ]
  },
  {
   "cell_type": "markdown",
   "metadata": {},
   "source": [
    "3.4 Créer une variable CategoricalFare Découpant la valeur de ticket en 4 catégories de tailles à peu près égales. "
   ],
   "execution_count": null,
   "outputs": []
  },
  {
   "cell_type": "code",
   "execution_count": 26,
   "metadata": {
    "_cell_guid": "a21335bd-4e8d-66e8-e6a5-5d2173b72d3b",
    "_uuid": "f04975f236aad78d3f93812512088404b5c9280e"
   },
   "outputs": [
    {
     "output_type": "execute_result",
     "data": {
      "text/plain": "0       (-0.001, 7.91]\n1      (31.0, 512.329]\n2       (7.91, 14.454]\n3      (31.0, 512.329]\n4       (7.91, 14.454]\n            ...       \n886     (7.91, 14.454]\n887     (14.454, 31.0]\n888     (14.454, 31.0]\n889     (14.454, 31.0]\n890     (-0.001, 7.91]\nName: CategoricalFare, Length: 891, dtype: category\nCategories (4, interval[float64]): [(-0.001, 7.91] < (7.91, 14.454] < (14.454, 31.0] < (31.0, 512.329]]"
     },
     "metadata": {},
     "execution_count": 26
    }
   ],
   "source": [
    "train['CategoricalFare']=pd.qcut(train['Fare'], 4)\n",
    "train['CategoricalFare']"
   ]
  },
  {
   "cell_type": "markdown",
   "metadata": {},
   "source": [
    "3.5 Analyser l'effet de ces catégories de prix de ticket sur la survie."
   ],
   "execution_count": null,
   "outputs": []
  },
  {
   "cell_type": "code",
   "execution_count": 29,
   "metadata": {
    "_cell_guid": "a21335bd-4e8d-66e8-e6a5-5d2173b72d3b",
    "_uuid": "f04975f236aad78d3f93812512088404b5c9280e"
   },
   "outputs": [
    {
     "output_type": "execute_result",
     "data": {
      "text/plain": "                 Survived\nCategoricalFare          \n(-0.001, 7.91]   0.197309\n(7.91, 14.454]   0.303571\n(14.454, 31.0]   0.454955\n(31.0, 512.329]  0.581081",
      "text/html": "<div>\n<style scoped>\n    .dataframe tbody tr th:only-of-type {\n        vertical-align: middle;\n    }\n\n    .dataframe tbody tr th {\n        vertical-align: top;\n    }\n\n    .dataframe thead th {\n        text-align: right;\n    }\n</style>\n<table border=\"1\" class=\"dataframe\">\n  <thead>\n    <tr style=\"text-align: right;\">\n      <th></th>\n      <th>Survived</th>\n    </tr>\n    <tr>\n      <th>CategoricalFare</th>\n      <th></th>\n    </tr>\n  </thead>\n  <tbody>\n    <tr>\n      <th>(-0.001, 7.91]</th>\n      <td>0.197309</td>\n    </tr>\n    <tr>\n      <th>(7.91, 14.454]</th>\n      <td>0.303571</td>\n    </tr>\n    <tr>\n      <th>(14.454, 31.0]</th>\n      <td>0.454955</td>\n    </tr>\n    <tr>\n      <th>(31.0, 512.329]</th>\n      <td>0.581081</td>\n    </tr>\n  </tbody>\n</table>\n</div>"
     },
     "metadata": {},
     "execution_count": 29
    }
   ],
   "source": [
    "train[['CategoricalFare', 'Survived']].groupby(['CategoricalFare']).mean()"
   ]
  },
  {
   "cell_type": "markdown",
   "metadata": {},
   "source": [
    "3.6 Combien de valeurs d'Age manquent ? Complète par des valeurs entières aléatoires entre (moyenne - écart type) et (moyenne + écart type)."
   ],
   "execution_count": null,
   "outputs": []
  },
  {
   "cell_type": "code",
   "execution_count": 47,
   "metadata": {
    "_cell_guid": "b90c2870-ce5d-ae0e-a33d-59e35445500e",
    "_uuid": "2af2b56d51752be08b84dbb2684466976758faa7"
   },
   "outputs": [
    {
     "output_type": "execute_result",
     "data": {
      "text/plain": "0"
     },
     "metadata": {},
     "execution_count": 47
    }
   ],
   "source": [
    "train.loc[train[\"Age\"].isna()]['PassengerId'].count()\n",
    "train['Age'].fillna(np.random.random_integers(train.Age.mean() - train.Age.std(), train.Age.mean() + train.Age.std()), inplace=True)\n",
    "train.loc[train[\"Age\"].isna()]['PassengerId'].count()"
   ]
  },
  {
   "cell_type": "markdown",
   "metadata": {},
   "source": [
    "3.7 Créer une variable CategoricalAge Découpant la valeur d'age en 5 catégories égales. "
   ],
   "execution_count": null,
   "outputs": []
  },
  {
   "cell_type": "code",
   "execution_count": 50,
   "metadata": {
    "_cell_guid": "b90c2870-ce5d-ae0e-a33d-59e35445500e",
    "_uuid": "2af2b56d51752be08b84dbb2684466976758faa7"
   },
   "outputs": [
    {
     "output_type": "execute_result",
     "data": {
      "text/plain": "0       (20.0, 23.0]\n1       (28.0, 38.0]\n2       (23.0, 28.0]\n3       (28.0, 38.0]\n4       (28.0, 38.0]\n           ...      \n886     (23.0, 28.0]\n887    (0.419, 20.0]\n888     (20.0, 23.0]\n889     (23.0, 28.0]\n890     (28.0, 38.0]\nName: CategoricalAge, Length: 891, dtype: category\nCategories (5, interval[float64]): [(0.419, 20.0] < (20.0, 23.0] < (23.0, 28.0] < (28.0, 38.0] < (38.0, 80.0]]"
     },
     "metadata": {},
     "execution_count": 50
    }
   ],
   "source": [
    "train['CategoricalAge']=pd.qcut(train['Age'], 5)\n",
    "train['CategoricalAge']"
   ]
  },
  {
   "cell_type": "markdown",
   "metadata": {},
   "source": [
    "3.8 Analyser l'effet de ces catégories de prix de l'age sur la survie."
   ],
   "execution_count": null,
   "outputs": []
  },
  {
   "cell_type": "code",
   "execution_count": 52,
   "metadata": {},
   "outputs": [
    {
     "output_type": "execute_result",
     "data": {
      "text/plain": "                 Survived\nCategoricalAge           \n(0.419, 20.0]   45.810056\n(20.0, 23.0]    29.918033\n(23.0, 28.0]    38.793103\n(28.0, 38.0]    43.428571\n(38.0, 80.0]    37.288136",
      "text/html": "<div>\n<style scoped>\n    .dataframe tbody tr th:only-of-type {\n        vertical-align: middle;\n    }\n\n    .dataframe tbody tr th {\n        vertical-align: top;\n    }\n\n    .dataframe thead th {\n        text-align: right;\n    }\n</style>\n<table border=\"1\" class=\"dataframe\">\n  <thead>\n    <tr style=\"text-align: right;\">\n      <th></th>\n      <th>Survived</th>\n    </tr>\n    <tr>\n      <th>CategoricalAge</th>\n      <th></th>\n    </tr>\n  </thead>\n  <tbody>\n    <tr>\n      <th>(0.419, 20.0]</th>\n      <td>45.810056</td>\n    </tr>\n    <tr>\n      <th>(20.0, 23.0]</th>\n      <td>29.918033</td>\n    </tr>\n    <tr>\n      <th>(23.0, 28.0]</th>\n      <td>38.793103</td>\n    </tr>\n    <tr>\n      <th>(28.0, 38.0]</th>\n      <td>43.428571</td>\n    </tr>\n    <tr>\n      <th>(38.0, 80.0]</th>\n      <td>37.288136</td>\n    </tr>\n  </tbody>\n</table>\n</div>"
     },
     "metadata": {},
     "execution_count": 52
    }
   ],
   "source": [
    "train[['CategoricalAge', 'Survived']].groupby(['CategoricalAge']).mean() * 100"
   ]
  },
  {
   "cell_type": "markdown",
   "metadata": {},
   "source": [
    "### Question 1 : Classer les variables par ordre d'intérêt\n",
    "Le sexe, l'age, la pclass ,la prix du ticket, l'embarquement"
   ],
   "execution_count": null,
   "outputs": []
  },
  {
   "cell_type": "markdown",
   "metadata": {},
   "source": [
    "## 4 : Traitement de features complexes (Optionnel) "
   ],
   "execution_count": null,
   "outputs": []
  },
  {
   "cell_type": "markdown",
   "metadata": {
    "_cell_guid": "bd25ec3f-b601-c1cc-d701-991fac1621f9",
    "_uuid": "17f6d181260d68d89f0a5dfa99b40a82b723567c"
   },
   "source": [
    "4.1 : Le nom permet de retrouver le titre du passager. Trouver les titres lorsqu'ils existent."
   ],
   "execution_count": null,
   "outputs": []
  },
  {
   "cell_type": "code",
   "execution_count": 88,
   "metadata": {
    "_cell_guid": "ad042f43-bfe0-ded0-4171-379d8caaa749",
    "_uuid": "5a56f5b4bad78d7e323167c5f0cc07cb3675187a"
   },
   "outputs": [],
   "source": [
    "train['PassengerTitle']=train['Name'].map(lambda x: x.split(', ')[1].split('.')[0])"
   ]
  },
  {
   "cell_type": "markdown",
   "metadata": {},
   "source": [
    "4.2 : En utilisant la fonction pandas crosstab, afficher pour train le nombre d'occurences par titres (en ligne) et par sexe (en colonne)"
   ],
   "execution_count": null,
   "outputs": []
  },
  {
   "cell_type": "code",
   "execution_count": 89,
   "metadata": {},
   "outputs": [
    {
     "output_type": "execute_result",
     "data": {
      "text/plain": "Sex             female  male\nPassengerTitle              \nCapt                 0     1\nCol                  0     2\nDon                  0     1\nDr                   1     6\nJonkheer             0     1\nLady                 1     0\nMajor                0     2\nMaster               0    40\nMiss               182     0\nMlle                 2     0\nMme                  1     0\nMr                   0   517\nMrs                125     0\nMs                   1     0\nRev                  0     6\nSir                  0     1\nthe Countess         1     0",
      "text/html": "<div>\n<style scoped>\n    .dataframe tbody tr th:only-of-type {\n        vertical-align: middle;\n    }\n\n    .dataframe tbody tr th {\n        vertical-align: top;\n    }\n\n    .dataframe thead th {\n        text-align: right;\n    }\n</style>\n<table border=\"1\" class=\"dataframe\">\n  <thead>\n    <tr style=\"text-align: right;\">\n      <th>Sex</th>\n      <th>female</th>\n      <th>male</th>\n    </tr>\n    <tr>\n      <th>PassengerTitle</th>\n      <th></th>\n      <th></th>\n    </tr>\n  </thead>\n  <tbody>\n    <tr>\n      <th>Capt</th>\n      <td>0</td>\n      <td>1</td>\n    </tr>\n    <tr>\n      <th>Col</th>\n      <td>0</td>\n      <td>2</td>\n    </tr>\n    <tr>\n      <th>Don</th>\n      <td>0</td>\n      <td>1</td>\n    </tr>\n    <tr>\n      <th>Dr</th>\n      <td>1</td>\n      <td>6</td>\n    </tr>\n    <tr>\n      <th>Jonkheer</th>\n      <td>0</td>\n      <td>1</td>\n    </tr>\n    <tr>\n      <th>Lady</th>\n      <td>1</td>\n      <td>0</td>\n    </tr>\n    <tr>\n      <th>Major</th>\n      <td>0</td>\n      <td>2</td>\n    </tr>\n    <tr>\n      <th>Master</th>\n      <td>0</td>\n      <td>40</td>\n    </tr>\n    <tr>\n      <th>Miss</th>\n      <td>182</td>\n      <td>0</td>\n    </tr>\n    <tr>\n      <th>Mlle</th>\n      <td>2</td>\n      <td>0</td>\n    </tr>\n    <tr>\n      <th>Mme</th>\n      <td>1</td>\n      <td>0</td>\n    </tr>\n    <tr>\n      <th>Mr</th>\n      <td>0</td>\n      <td>517</td>\n    </tr>\n    <tr>\n      <th>Mrs</th>\n      <td>125</td>\n      <td>0</td>\n    </tr>\n    <tr>\n      <th>Ms</th>\n      <td>1</td>\n      <td>0</td>\n    </tr>\n    <tr>\n      <th>Rev</th>\n      <td>0</td>\n      <td>6</td>\n    </tr>\n    <tr>\n      <th>Sir</th>\n      <td>0</td>\n      <td>1</td>\n    </tr>\n    <tr>\n      <th>the Countess</th>\n      <td>1</td>\n      <td>0</td>\n    </tr>\n  </tbody>\n</table>\n</div>"
     },
     "metadata": {},
     "execution_count": 89
    }
   ],
   "source": [
    "pd.crosstab(train['PassengerTitle'], train['Sex'])"
   ]
  },
  {
   "cell_type": "markdown",
   "metadata": {
    "_cell_guid": "ca5fff8c-7a0d-6c18-2173-b8df6293c50a",
    "_uuid": "84862f8cbbe2ea72b69a9cba78c6b7e10c80626e"
   },
   "source": [
    "4.3 : \n",
    "Remplacer 'Melle et 'Ms' par 'Miss'\n",
    "Remplacer 'Mme' par 'Mrs'\n",
    "Creer une valeur \"Rare\" pour les autres titres avec moins de 10 occurences. "
   ],
   "execution_count": null,
   "outputs": []
  },
  {
   "cell_type": "code",
   "execution_count": 98,
   "metadata": {
    "_cell_guid": "8357238b-98fe-632a-acd5-33674a6132ce",
    "_uuid": "db0029466612ad0550fc0eebef4a06a5507d6c3d"
   },
   "outputs": [
    {
     "output_type": "execute_result",
     "data": {
      "text/plain": "0        Mr\n1       Mrs\n2      Miss\n3       Mrs\n4        Mr\n       ... \n886    Rare\n887    Miss\n888    Miss\n889      Mr\n890      Mr\nName: PassengerTitle, Length: 891, dtype: object"
     },
     "metadata": {},
     "execution_count": 98
    }
   ],
   "source": [
    "train['PassengerTitle'].replace(to_replace = ['Ms', 'Mlle'], value ='Miss')\n",
    "train['PassengerTitle'].replace(to_replace = 'Mme', value ='Mrs')\n",
    "train.loc[train.groupby('PassengerTitle').PassengerTitle.transform('count').lt(10), 'PassengerTitle'] = 'Rare'\n",
    "train['PassengerTitle']"
   ]
  },
  {
   "cell_type": "markdown",
   "metadata": {
    "_cell_guid": "68fa2057-e27a-e252-0d1b-869c00a303ba",
    "_uuid": "52bcf7b36b8edb12d40f2a1f9e80060b55d91ad3"
   },
   "source": [
    "## 5. Mise en forme des données non numériques"
   ],
   "execution_count": null,
   "outputs": []
  },
  {
   "cell_type": "markdown",
   "metadata": {},
   "source": [
    "5.1 Attribuer une valeur numérique au Genre. Par exemple 0 pour 'female' et 1 pour 'male'"
   ],
   "execution_count": null,
   "outputs": []
  },
  {
   "cell_type": "code",
   "execution_count": 100,
   "metadata": {},
   "outputs": [],
   "source": [
    "train['Sex'] = train['Sex'].map({\n",
    "    'female': 0,\n",
    "    'male': 1\n",
    "})"
   ]
  },
  {
   "cell_type": "markdown",
   "metadata": {},
   "source": [
    "5.2 : Attribuer une valeur pour les possibilités de la variable \"Title\" ('Master','Miss','Mr','Mrs','Rare'). "
   ],
   "execution_count": null,
   "outputs": []
  },
  {
   "cell_type": "code",
   "execution_count": 115,
   "metadata": {},
   "outputs": [],
   "source": [
    "train['PassengerTitle']=train['PassengerTitle'].map({\n",
    "    'Master': 1,\n",
    "    'Miss': 2,\n",
    "    'Mr': 3,\n",
    "    'Mrs':4,\n",
    "    'Rare': 5\n",
    "})"
   ]
  },
  {
   "cell_type": "markdown",
   "metadata": {},
   "source": [
    "5.3 Remplacer les titres manquant par 0, et attribuer à la colonne le type entier."
   ],
   "execution_count": null,
   "outputs": []
  },
  {
   "cell_type": "code",
   "execution_count": 11,
   "metadata": {},
   "outputs": [],
   "source": []
  },
  {
   "cell_type": "markdown",
   "metadata": {},
   "source": [
    "5.4 Attribuer une valeur numérique aux 4 catégories de la variable Fare (question 3.4)"
   ],
   "execution_count": null,
   "outputs": []
  },
  {
   "cell_type": "code",
   "execution_count": 106,
   "metadata": {},
   "outputs": [],
   "source": [
    "category_fare = train['CategoricalFare'].unique()\n",
    "train['CategoricalFare'] = train['CategoricalFare'].map({category_fare[0]:1, category_fare[1]:2, category_fare[2]:3, category_fare[3]:4})"
   ]
  },
  {
   "cell_type": "markdown",
   "metadata": {},
   "source": [
    "5.5 Attribuer une valeur numérique aux 5 catégories de la variable Age (question 3.7)"
   ],
   "execution_count": null,
   "outputs": []
  },
  {
   "cell_type": "code",
   "execution_count": 108,
   "metadata": {},
   "outputs": [],
   "source": [
    "category_age = train['CategoricalAge'].unique()\n",
    "train['CategoricalAge'] = train['CategoricalAge'].map({category_age[0]:1, category_age[1]:2, category_age[2]:3, category_age[3]:4, category_age[4]:5})"
   ]
  },
  {
   "cell_type": "markdown",
   "metadata": {},
   "source": [
    "5.6 Attibuer une valeur numérique au Port d'embarquement (Embarked)"
   ],
   "execution_count": null,
   "outputs": []
  },
  {
   "cell_type": "code",
   "execution_count": 110,
   "metadata": {},
   "outputs": [],
   "source": [
    "train['Embarked']=train['Embarked'].map({\n",
    "    'C':1,\n",
    "    'Q':2,\n",
    "    'S':3\n",
    "})"
   ]
  },
  {
   "cell_type": "markdown",
   "metadata": {},
   "source": [
    "5.7 Supprimer les features inutiles"
   ],
   "execution_count": null,
   "outputs": []
  },
  {
   "cell_type": "code",
   "execution_count": 111,
   "metadata": {},
   "outputs": [],
   "source": [
    "train = train.drop(['Name','Age','SibSp','Parch','Ticket','Cabin','Fare'], axis=1)"
   ]
  },
  {
   "cell_type": "markdown",
   "metadata": {},
   "source": [
    "5.8 Afficher les infos pour les deux datasets"
   ],
   "execution_count": null,
   "outputs": []
  },
  {
   "cell_type": "code",
   "execution_count": 116,
   "metadata": {},
   "outputs": [
    {
     "output_type": "stream",
     "name": "stdout",
     "text": "<class 'pandas.core.frame.DataFrame'>\nRangeIndex: 891 entries, 0 to 890\nData columns (total 10 columns):\n #   Column           Non-Null Count  Dtype   \n---  ------           --------------  -----   \n 0   PassengerId      891 non-null    int64   \n 1   Survived         891 non-null    int64   \n 2   Pclass           891 non-null    int64   \n 3   Sex              891 non-null    int64   \n 4   Embarked         891 non-null    int64   \n 5   FamilySize       891 non-null    int64   \n 6   isAlone          891 non-null    bool    \n 7   CategoricalFare  891 non-null    category\n 8   CategoricalAge   891 non-null    category\n 9   PassengerTitle   891 non-null    int64   \ndtypes: bool(1), category(2), int64(7)\nmemory usage: 51.8 KB\n<class 'pandas.core.frame.DataFrame'>\nRangeIndex: 418 entries, 0 to 417\nData columns (total 13 columns):\n #   Column       Non-Null Count  Dtype  \n---  ------       --------------  -----  \n 0   PassengerId  418 non-null    int64  \n 1   Pclass       418 non-null    int64  \n 2   Name         418 non-null    object \n 3   Sex          418 non-null    object \n 4   Age          332 non-null    float64\n 5   SibSp        418 non-null    int64  \n 6   Parch        418 non-null    int64  \n 7   Ticket       418 non-null    object \n 8   Fare         417 non-null    float64\n 9   Cabin        91 non-null     object \n 10  Embarked     418 non-null    object \n 11  FamilySize   418 non-null    int64  \n 12  isAlone      418 non-null    bool   \ndtypes: bool(1), float64(2), int64(5), object(5)\nmemory usage: 39.7+ KB\n"
    }
   ],
   "source": [
    "train.info()\n",
    "test.info()"
   ]
  },
  {
   "cell_type": "markdown",
   "metadata": {},
   "source": [
    "# Sauver les deux datasets dans des fichier csv. Eviter d'écrire un index (n° de ligne)"
   ],
   "execution_count": null,
   "outputs": []
  },
  {
   "cell_type": "code",
   "execution_count": 119,
   "metadata": {
    "_cell_guid": "2502bb70-ce6f-2497-7331-7d1f80521470",
    "_uuid": "1aa110c1043f1f43c091a771abc64054a211f784"
   },
   "outputs": [],
   "source": [
    "train.to_csv('Data/passagers_after.csv',index=False)"
   ]
  },
  {
   "cell_type": "markdown",
   "metadata": {},
   "source": [
    "##### Question : Sur combien de questions avez-vous utilisé les conseils ?\n",
    "0"
   ],
   "execution_count": null,
   "outputs": []
  }
 ],
 "metadata": {
  "_change_revision": 0,
  "_is_fork": false,
  "kernelspec": {
   "display_name": "Python 3",
   "language": "python",
   "name": "python3"
  },
  "language_info": {
   "codemirror_mode": {
    "name": "ipython",
    "version": 3
   },
   "file_extension": ".py",
   "mimetype": "text/x-python",
   "name": "python",
   "nbconvert_exporter": "python",
   "pygments_lexer": "ipython3",
   "version": "3.7.6-final"
  }
 },
 "nbformat": 4,
 "nbformat_minor": 4
}