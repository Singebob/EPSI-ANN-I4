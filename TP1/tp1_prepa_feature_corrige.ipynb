{
 "cells": [
  {
   "cell_type": "markdown",
   "metadata": {},
   "source": [
    "## Import des librairies ##"
   ]
  },
  {
   "cell_type": "code",
   "execution_count": null,
   "metadata": {},
   "outputs": [],
   "source": [
    "#Imports librairies de base\n",
    "import numpy as np\n",
    "import pandas as pd\n",
    "\n",
    "#Bibliothèques pour Cross validation\n",
    "\n",
    "#Affichage de Graphes\n",
    "from IPython.display import Markdown, display, HTML"
   ]
  },
  {
   "cell_type": "markdown",
   "metadata": {
    "_cell_guid": "25b1e1db-8bc5-7029-f719-91da523bd121",
    "_uuid": "5c867fcbb300bcf3c9b8986bba9949da2a2df931"
   },
   "source": [
    "## 1. Lecture des données ##"
   ]
  },
  {
   "cell_type": "markdown",
   "metadata": {},
   "source": [
    "1.1 Charger les données d'apprentissage (Data/passagers.csv) dans un DataFrame nommé train. Afficher 10 exemples."
   ]
  },
  {
   "cell_type": "code",
   "execution_count": null,
   "metadata": {
    "_cell_guid": "2ce68358-02ec-556d-ba88-e773a50bc18b",
    "_uuid": "5ec0878acc5c7ab3903410e671c2a2c6cfeafeea"
   },
   "outputs": [],
   "source": [
    "#Lecture du fichier passagers avec label \"Survived\", pour le training\n",
    "train = pd.read_csv('Data/passagers.csv')\n",
    "train.sample(10)"
   ]
  },
  {
   "cell_type": "markdown",
   "metadata": {},
   "source": [
    "1.2 Charger les données d'apprentissage (Data/test.csv) dans un Dataframe nommé test. Afficher 10 exemples. "
   ]
  },
  {
   "cell_type": "code",
   "execution_count": null,
   "metadata": {
    "_cell_guid": "2ce68358-02ec-556d-ba88-e773a50bc18b",
    "_uuid": "5ec0878acc5c7ab3903410e671c2a2c6cfeafeea"
   },
   "outputs": [],
   "source": [
    "#Lecture du fichier Test.csv sans label \"Survived\", à calculer et envoyer à Kaggle\n",
    "test  = pd.read_csv('Data/test.csv' , header = 0, dtype={'Age': np.float64})\n",
    "test.sample(10)"
   ]
  },
  {
   "cell_type": "markdown",
   "metadata": {},
   "source": [
    "1.3 Afficher les informations des deux DataFrames train et Test."
   ]
  },
  {
   "cell_type": "code",
   "execution_count": null,
   "metadata": {
    "_cell_guid": "2ce68358-02ec-556d-ba88-e773a50bc18b",
    "_uuid": "5ec0878acc5c7ab3903410e671c2a2c6cfeafeea"
   },
   "outputs": [],
   "source": [
    "# Infos sur train et test\n",
    "display(Markdown('<span style=\"color:blue;font-weight:bold\">train :</span>'))\n",
    "train.info()\n",
    "display(Markdown('<span style=\"color:blue;font-weight:bold\">test :</span>'))\n",
    "test.info()"
   ]
  },
  {
   "cell_type": "markdown",
   "metadata": {},
   "source": [
    "1.4 Calculer le taux global de survie"
   ]
  },
  {
   "cell_type": "code",
   "execution_count": null,
   "metadata": {},
   "outputs": [],
   "source": [
    "'%.2f%% de survie'%(train.Survived.mean()*100)"
   ]
  },
  {
   "cell_type": "markdown",
   "metadata": {},
   "source": [
    "\n"
   ]
  },
  {
   "cell_type": "markdown",
   "metadata": {},
   "source": [
    "#### Question 1 : Quel Travail voyez-vous pour que les données soient prêtes à faire tourner dans un modèle ?\n",
    "\n",
    "\n",
    "\n",
    "\n",
    "#### Question 2 : Quelle différence y-a-t'il entre les données train et les données test ? \n",
    "\n",
    "\n",
    "\n",
    "\n",
    "#### Question 3 : Quel est le rôle de ces deux sets de données ?\n",
    "\n",
    "\n"
   ]
  },
  {
   "cell_type": "markdown",
   "metadata": {
    "_cell_guid": "f9595646-65c9-6fc4-395f-0befc4d122ce",
    "_uuid": "66273d64a2548d7a88464ab2a73dbdedfbdc488b"
   },
   "source": [
    "## 2. Analyse des features"
   ]
  },
  {
   "cell_type": "markdown",
   "metadata": {
    "_cell_guid": "9b4c278b-aaca-e92c-ba77-b9b48379d1f1",
    "_uuid": "c2b62e14d493c270ec8df9f3af1938c479361ef3"
   },
   "source": [
    "2.1 Analyser l'effet de la variable Classe sur le taux de survie, en affichant le % de survie par classe"
   ]
  },
  {
   "cell_type": "code",
   "execution_count": null,
   "metadata": {},
   "outputs": [],
   "source": [
    "display(Markdown('<span style=\"color:blue;font-weight:bold\">Effet de la classe</span>'))\n",
    "train[['Pclass', 'Survived']].groupby(['Pclass']).mean()"
   ]
  },
  {
   "cell_type": "markdown",
   "metadata": {
    "_cell_guid": "4680d950-cf7d-a6ae-e813-535e2247d88e",
    "_uuid": "f02533e7b85bba0cca7fcf2cc598c8da92d7646d"
   },
   "source": [
    "2.2 Analyser l'effet de la variable Genre (Sex) sur le taux de survie, en affichant le % de survie par classe"
   ]
  },
  {
   "cell_type": "code",
   "execution_count": null,
   "metadata": {
    "_cell_guid": "4680d950-cf7d-a6ae-e813-535e2247d88e",
    "_uuid": "f02533e7b85bba0cca7fcf2cc598c8da92d7646d"
   },
   "outputs": [],
   "source": [
    "display(Markdown('<span style=\"color:blue;font-weight:bold\">Effet du Genre</span>'))\n",
    "print (train[[\"Sex\", \"Survived\"]].groupby(['Sex']).mean())"
   ]
  },
  {
   "cell_type": "markdown",
   "metadata": {
    "_cell_guid": "7c58b7ee-d6a1-0cc9-2346-81c47846a54a",
    "_uuid": "88185e9222c26d5d23caaeb209c18710a231b5f9"
   },
   "source": [
    "2.3 Calculer une nouvelle colonne FamilySize contenant la taille de la famille, pour les DataFrame train et Test. Afficher pour 10 exemples l'Id du passager, le nom, l'age, le sexe et la taille de la famille."
   ]
  },
  {
   "cell_type": "code",
   "execution_count": null,
   "metadata": {
    "_cell_guid": "1a537f10-7cec-d0b7-8a34-fa9975655190",
    "_uuid": "ccc4a4cf7624dd4be450fd62ca3ad478d4e75696"
   },
   "outputs": [],
   "source": [
    "#On crée une colonne pour la taille de la famille\n",
    "for dataset in [train,test]:\n",
    "    dataset['FamilySize'] = dataset['SibSp'] + dataset['Parch'] + 1\n",
    "    display(HTML(dataset[['PassengerId','Name','Sex','Age','FamilySize']].sample(10).to_html()))\n",
    "    print('-------------------------------------')"
   ]
  },
  {
   "cell_type": "markdown",
   "metadata": {},
   "source": [
    "2.4 Visualisez le nombre de personnes et le taux de survie par taille de famille."
   ]
  },
  {
   "cell_type": "code",
   "execution_count": null,
   "metadata": {
    "_cell_guid": "1a537f10-7cec-d0b7-8a34-fa9975655190",
    "_uuid": "ccc4a4cf7624dd4be450fd62ca3ad478d4e75696"
   },
   "outputs": [],
   "source": [
    "display(Markdown('<span style=\"color:blue;font-weight:bold\">Effet de la taille de la famille</span>'))\n",
    "print (train[['FamilySize', 'Survived']].groupby(['FamilySize']).count())\n",
    "print (train[['FamilySize', 'Survived']].groupby(['FamilySize']).mean())"
   ]
  },
  {
   "cell_type": "markdown",
   "metadata": {
    "_cell_guid": "7c58b7ee-d6a1-0cc9-2346-81c47846a54a",
    "_uuid": "88185e9222c26d5d23caaeb209c18710a231b5f9"
   },
   "source": [
    "2.5 Calculer une nouvelle colonne IsAlone indiquant si le passager est seul ou pas, pour les DataFrame train et Test. Afficher pour 10 exemples l'Id du passager, le nom, l'age, le sexe et le status IsAlone."
   ]
  },
  {
   "cell_type": "code",
   "execution_count": null,
   "metadata": {
    "_cell_guid": "8c35e945-c928-e3bc-bd9c-d6ddb287e4c9",
    "_uuid": "87f79dc0711c29f39c0db1a4f7a2e8a84c0c7edb"
   },
   "outputs": [],
   "source": [
    "for dataset in [train,test]:\n",
    "    dataset['IsAlone'] = 0\n",
    "    dataset.loc[dataset['FamilySize'] == 1, 'IsAlone'] = 1\n",
    "    display(HTML(dataset[['PassengerId','Name','Sex','Age','IsAlone']].sample(10).to_html()))"
   ]
  },
  {
   "cell_type": "markdown",
   "metadata": {},
   "source": [
    "2.6 Visualisez le nombre de personnes et le taux de survie par statut seul ou pas."
   ]
  },
  {
   "cell_type": "code",
   "execution_count": null,
   "metadata": {
    "_cell_guid": "8c35e945-c928-e3bc-bd9c-d6ddb287e4c9",
    "_uuid": "87f79dc0711c29f39c0db1a4f7a2e8a84c0c7edb"
   },
   "outputs": [],
   "source": [
    "display(Markdown(\"<span style='color:blue;font-weight:bold'>Effet de la présence d'une famille</span>\"))\n",
    "print (train[['IsAlone', 'Survived']].groupby(['IsAlone']).count())\n",
    "print (train[['IsAlone', 'Survived']].groupby(['IsAlone']).mean())"
   ]
  },
  {
   "cell_type": "markdown",
   "metadata": {},
   "source": [
    "### Question 1 : La variable Classe est-elle utile pour prévoir la survie ? Pourquoi ?\n",
    "\n",
    "\n",
    "\n",
    "### Question 2 : Même question pour la variable Sex \n",
    "\n",
    "\n",
    "### Question 3 : Comment traiter le variables liées à la famille du passager ?\n",
    "\n",
    "\n",
    "\n"
   ]
  },
  {
   "cell_type": "markdown",
   "metadata": {},
   "source": [
    "## 3. Traitement des données manquantes (à faire sur les données Train et Test)"
   ]
  },
  {
   "cell_type": "markdown",
   "metadata": {
    "_cell_guid": "8aa419c0-6614-7efc-7797-97f4a5158b19",
    "_uuid": "dd18a31086cfeca6330b05f83caf3cc02f687253"
   },
   "source": [
    "3.1 La variable \"Embarked\" possède des valeurs nulles, compléter par la valeur majoritaire (S)."
   ]
  },
  {
   "cell_type": "code",
   "execution_count": null,
   "metadata": {
    "_cell_guid": "0e70e9af-d7cc-8c40-b7d4-2643889c376d",
    "_uuid": "b4f7ccb3df98da6915bda1c7c225b905fc37845b"
   },
   "outputs": [],
   "source": [
    "for dataset in [train,test]:\n",
    "    dataset['Embarked'] = dataset['Embarked'].fillna('S')"
   ]
  },
  {
   "cell_type": "markdown",
   "metadata": {},
   "source": [
    "3.2 Afficher l'influence du port d'embarquement sur la Survie "
   ]
  },
  {
   "cell_type": "code",
   "execution_count": null,
   "metadata": {
    "_cell_guid": "0e70e9af-d7cc-8c40-b7d4-2643889c376d",
    "_uuid": "b4f7ccb3df98da6915bda1c7c225b905fc37845b"
   },
   "outputs": [],
   "source": [
    "display(Markdown('<span style=\"color:blue;font-weight:bold\">Effet du Port d\\'embarquement</span>'))\n",
    "print (train[['Embarked', 'Survived']].groupby(['Embarked']).mean())"
   ]
  },
  {
   "cell_type": "markdown",
   "metadata": {
    "_cell_guid": "e08c9ee8-d6d1-99b7-38bd-f0042c18a5d9",
    "_uuid": "bbeb369d4bb1b086fcc3257218fdeeb6bcdb53c0"
   },
   "source": [
    "3.3 La variable \"Fare\" (prix du ticket) possède des valeurs manquantes. Remplacer ces valeurs par la valeur médiane."
   ]
  },
  {
   "cell_type": "code",
   "execution_count": null,
   "metadata": {
    "_cell_guid": "a21335bd-4e8d-66e8-e6a5-5d2173b72d3b",
    "_uuid": "f04975f236aad78d3f93812512088404b5c9280e"
   },
   "outputs": [],
   "source": [
    "for dataset in [train,test]:\n",
    "    dataset['Fare'] = dataset['Fare'].fillna(train['Fare'].median())"
   ]
  },
  {
   "cell_type": "markdown",
   "metadata": {},
   "source": [
    "3.4 Créer une variable CategoricalFare Découpant la valeur de ticket en 4 catégories de tailles à peu près égales. "
   ]
  },
  {
   "cell_type": "code",
   "execution_count": null,
   "metadata": {
    "_cell_guid": "a21335bd-4e8d-66e8-e6a5-5d2173b72d3b",
    "_uuid": "f04975f236aad78d3f93812512088404b5c9280e"
   },
   "outputs": [],
   "source": [
    "train['CategoricalFare'] = pd.qcut(train['Fare'], 4)\n",
    "train.sample(5)"
   ]
  },
  {
   "cell_type": "markdown",
   "metadata": {},
   "source": [
    "3.5 Analyser l'effet de ces catégories de prix de ticket sur la survie."
   ]
  },
  {
   "cell_type": "code",
   "execution_count": null,
   "metadata": {
    "_cell_guid": "a21335bd-4e8d-66e8-e6a5-5d2173b72d3b",
    "_uuid": "f04975f236aad78d3f93812512088404b5c9280e"
   },
   "outputs": [],
   "source": [
    "display(Markdown('<span style=\"color:blue;font-weight:bold\">Effet du Prix du Ticket</span>'))\n",
    "print (train[['CategoricalFare', 'Survived']].groupby(['CategoricalFare']).mean())"
   ]
  },
  {
   "cell_type": "markdown",
   "metadata": {},
   "source": [
    "3.6 Combien de valeurs d'Age manquent ? Complète par des valeurs entières aléatoires entre (moyenne - écart type) et (moyenne + écart type)."
   ]
  },
  {
   "cell_type": "code",
   "execution_count": null,
   "metadata": {
    "_cell_guid": "b90c2870-ce5d-ae0e-a33d-59e35445500e",
    "_uuid": "2af2b56d51752be08b84dbb2684466976758faa7"
   },
   "outputs": [],
   "source": [
    "for dataset in  [train,test]:\n",
    "    age_null_count = dataset['Age'].isnull().sum()\n",
    "    print(\"%i valeurs d'age manquent.\"%age_null_count)\n",
    "    age_avg   = dataset['Age'].mean()\n",
    "    age_std   = dataset['Age'].std()    \n",
    "    # Création et attribution pour chaque valeur nulle d'une valeur entière aléatoire\n",
    "    age_null_random_list = np.random.randint(age_avg - age_std, age_avg + age_std, size=age_null_count)    \n",
    "    dataset.loc[np.isnan(dataset['Age']),'Age'] = age_null_random_list\n",
    "    display(HTML(dataset[['PassengerId','Name','Sex','Age']].sample(10).to_html()))\n",
    "    print('-------------------------------------')\n",
    "    #dataset['Age'] = dataset['Age'].astype(int)"
   ]
  },
  {
   "cell_type": "markdown",
   "metadata": {},
   "source": [
    "3.7 Créer une variable CategoricalAge Découpant la valeur d'age en 5 catégories égales. "
   ]
  },
  {
   "cell_type": "code",
   "execution_count": null,
   "metadata": {
    "_cell_guid": "b90c2870-ce5d-ae0e-a33d-59e35445500e",
    "_uuid": "2af2b56d51752be08b84dbb2684466976758faa7"
   },
   "outputs": [],
   "source": [
    "train['CategoricalAge'] = pd.cut(train['Age'], 5)\n",
    "train.sample(10)"
   ]
  },
  {
   "cell_type": "markdown",
   "metadata": {},
   "source": [
    "3.8 Analyser l'effet de ces catégories de prix de ticket sur la survie."
   ]
  },
  {
   "cell_type": "code",
   "execution_count": null,
   "metadata": {},
   "outputs": [],
   "source": [
    "display(Markdown('<span style=\"color:blue;font-weight:bold\">Effet de l\\'age</span>'))\n",
    "train[['CategoricalAge', 'Survived']].groupby(['CategoricalAge']).mean()"
   ]
  },
  {
   "cell_type": "markdown",
   "metadata": {},
   "source": [
    "### Question 1 : Classer les variables par ordre d'intérêt"
   ]
  },
  {
   "cell_type": "markdown",
   "metadata": {},
   "source": [
    "## 4 : Traitement de features complexes (Optionnel) "
   ]
  },
  {
   "cell_type": "markdown",
   "metadata": {
    "_cell_guid": "bd25ec3f-b601-c1cc-d701-991fac1621f9",
    "_uuid": "17f6d181260d68d89f0a5dfa99b40a82b723567c"
   },
   "source": [
    "4.1 : Le nom permet de retrouver le titre du passager. Trouver les titres lorsqu'ils existent."
   ]
  },
  {
   "cell_type": "code",
   "execution_count": null,
   "metadata": {
    "_cell_guid": "ad042f43-bfe0-ded0-4171-379d8caaa749",
    "_uuid": "5a56f5b4bad78d7e323167c5f0cc07cb3675187a"
   },
   "outputs": [],
   "source": [
    "import re\n",
    "def get_title(name):\n",
    "    title_search = re.search(' ([A-Za-z]+)\\.', name)\n",
    "    # Si le titre existe, on le renvoie\n",
    "    if title_search:\n",
    "        return title_search.group(1)\n",
    "    return \"\"\n",
    "\n",
    "for dataset in [train,test]:\n",
    "    dataset['Title'] = dataset['Name'].apply(get_title)\n",
    "    display(HTML(dataset[['PassengerId','Name','Sex','Title']].sample(10).to_html()))\n",
    "    print('-------------------------------------')"
   ]
  },
  {
   "cell_type": "markdown",
   "metadata": {},
   "source": [
    "4.2 : En utilisant la fonction pandas crosstab, afficher pour train le nombre d'occurences par titres (en ligne) et par sexe (en colonne)"
   ]
  },
  {
   "cell_type": "code",
   "execution_count": null,
   "metadata": {},
   "outputs": [],
   "source": [
    "pd.crosstab(train['Title'], train['Sex'])"
   ]
  },
  {
   "cell_type": "markdown",
   "metadata": {
    "_cell_guid": "ca5fff8c-7a0d-6c18-2173-b8df6293c50a",
    "_uuid": "84862f8cbbe2ea72b69a9cba78c6b7e10c80626e"
   },
   "source": [
    "4.3 : \n",
    "Remplacer 'Melle et 'Ms' par 'Miss'\n",
    "Remplacer 'Mme' par 'Mrs'\n",
    "Creer une valeur \"Rare\" pour les autres titres avec moins de 10 occurences. "
   ]
  },
  {
   "cell_type": "code",
   "execution_count": null,
   "metadata": {
    "_cell_guid": "8357238b-98fe-632a-acd5-33674a6132ce",
    "_uuid": "db0029466612ad0550fc0eebef4a06a5507d6c3d"
   },
   "outputs": [],
   "source": [
    "for dataset in [train,test]:\n",
    "    dataset['Title'] = dataset['Title'].replace(['Lady', 'Countess','Capt', 'Col',\n",
    "                   'Don', 'Dr', 'Major', 'Rev', 'Sir', 'Jonkheer', 'Dona'], 'Rare')\n",
    "    dataset['Title'] = dataset['Title'].replace('Mlle', 'Miss')\n",
    "    dataset['Title'] = dataset['Title'].replace('Ms', 'Miss')\n",
    "    dataset['Title'] = dataset['Title'].replace('Mme', 'Mrs')\n",
    "    \n",
    "display(Markdown('<span style=\"color:blue;font-weight:bold\">Effet du Titre</span>'))\n",
    "print (train[['Title', 'Survived']].groupby(['Title']).mean())"
   ]
  },
  {
   "cell_type": "markdown",
   "metadata": {
    "_cell_guid": "68fa2057-e27a-e252-0d1b-869c00a303ba",
    "_uuid": "52bcf7b36b8edb12d40f2a1f9e80060b55d91ad3"
   },
   "source": [
    "## 5. Mise en forme des données non numériques"
   ]
  },
  {
   "cell_type": "markdown",
   "metadata": {},
   "source": [
    "5.1 Attribuer une valeur numérique au Genre. Par exemple 0 pour 'female' et 1 pour 'male'"
   ]
  },
  {
   "cell_type": "code",
   "execution_count": null,
   "metadata": {},
   "outputs": [],
   "source": [
    "for dataset in [train,test]:\n",
    "    dataset['Sex'] = dataset['Sex'].map( {'female': 0, 'male': 1} )\n",
    "    display(HTML(dataset[['PassengerId','Name','Sex']].sample(10).to_html()))"
   ]
  },
  {
   "cell_type": "markdown",
   "metadata": {},
   "source": [
    "5.2 : Attribuer une valeur pour les possibilités de la variable \"Title\" ('Master','Miss','Mr','Mrs','Rare'). "
   ]
  },
  {
   "cell_type": "code",
   "execution_count": null,
   "metadata": {},
   "outputs": [],
   "source": [
    "title_mapping = {\"Mr\": 1, \"Miss\": 2, \"Mrs\": 3, \"Master\": 4, \"Rare\": 5}\n",
    "for dataset in [train,test]:\n",
    "    dataset['Title'] = dataset['Title'].map(title_mapping)\n",
    "    display(HTML(dataset[['PassengerId','Name','Title']].sample(10).to_html()))"
   ]
  },
  {
   "cell_type": "markdown",
   "metadata": {},
   "source": [
    "5.3 Remplacer les titres manquant par 0, et attribuer à la colonne le type entier."
   ]
  },
  {
   "cell_type": "code",
   "execution_count": null,
   "metadata": {},
   "outputs": [],
   "source": [
    " for dataset in [train,test]:\n",
    "    dataset['Title'] = dataset['Title'].fillna(0).astype(int)\n",
    "    display(HTML(dataset[['PassengerId','Name','Title']].sample(10).to_html()))    "
   ]
  },
  {
   "cell_type": "markdown",
   "metadata": {},
   "source": [
    "5.4 Attribuer une valeur numérique aux 4 catégories de la variable Fare (question 3.6)"
   ]
  },
  {
   "cell_type": "code",
   "execution_count": null,
   "metadata": {},
   "outputs": [],
   "source": [
    "for dataset in [train,test]:\n",
    "    dataset.loc[ dataset['Fare'] <= 7.91, 'Fare']= 0\n",
    "    dataset.loc[(dataset['Fare'] > 7.91) & (dataset['Fare'] <= 14.454), 'Fare'] = 1\n",
    "    dataset.loc[(dataset['Fare'] > 14.454) & (dataset['Fare'] <= 31), 'Fare']   = 2\n",
    "    dataset.loc[ dataset['Fare'] > 31, 'Fare'] = 3\n",
    "    dataset['Fare'] = dataset['Fare'].astype(int)\n",
    "    display(HTML(dataset[['PassengerId','Name','Fare']].sample(10).to_html()))"
   ]
  },
  {
   "cell_type": "markdown",
   "metadata": {},
   "source": [
    "5.5 Attribuer une valeur numérique aux 5 catégories de la variable Age (question 3.7)"
   ]
  },
  {
   "cell_type": "code",
   "execution_count": null,
   "metadata": {},
   "outputs": [],
   "source": [
    "for dataset in [train,test]:\n",
    "    dataset.loc[ dataset['Age'] <= 16, 'Age'] \t\t\t\t\t       = 0\n",
    "    dataset.loc[(dataset['Age'] > 16) & (dataset['Age'] <= 32), 'Age'] = 1\n",
    "    dataset.loc[(dataset['Age'] > 32) & (dataset['Age'] <= 48), 'Age'] = 2\n",
    "    dataset.loc[(dataset['Age'] > 48) & (dataset['Age'] <= 64), 'Age'] = 3\n",
    "    dataset.loc[ dataset['Age'] > 64, 'Age']                           = 4\n",
    "    dataset['Age'] = dataset['Age'].astype(int)\n",
    "    display(HTML(dataset[['PassengerId','Name','Age']].sample(10).to_html()))"
   ]
  },
  {
   "cell_type": "markdown",
   "metadata": {},
   "source": [
    "5.6 Attibuer une valeur numérique au Port d'embarquement (Embarked)"
   ]
  },
  {
   "cell_type": "code",
   "execution_count": null,
   "metadata": {},
   "outputs": [],
   "source": [
    " for dataset in [train,test]:\n",
    "    dataset['Embarked'] = dataset['Embarked'].map( {'S': 0, 'C': 1, 'Q': 2} ).astype(int)\n",
    "    display(HTML(dataset[['PassengerId','Name','Embarked']].sample(10).to_html()))"
   ]
  },
  {
   "cell_type": "markdown",
   "metadata": {},
   "source": [
    "5.7 Supprimer les features inutiles"
   ]
  },
  {
   "cell_type": "code",
   "execution_count": null,
   "metadata": {},
   "outputs": [],
   "source": [
    "drop_elements = ['Name', 'Ticket', 'Cabin', 'SibSp','Parch', 'FamilySize']\n",
    "train = train.drop(drop_elements, axis = 1)\n",
    "test  = test.drop(drop_elements, axis = 1)\n",
    "train = train.drop(['CategoricalAge', 'CategoricalFare'], axis = 1)    "
   ]
  },
  {
   "cell_type": "markdown",
   "metadata": {},
   "source": [
    "5.8 Afficher les infos pour les deux datasets"
   ]
  },
  {
   "cell_type": "code",
   "execution_count": null,
   "metadata": {},
   "outputs": [],
   "source": [
    "# Infos sur train et test\n",
    "display(Markdown('<span style=\"color:blue;font-weight:bold\">train mis en forme :</span>'))\n",
    "train.info()\n",
    "display(Markdown('<span style=\"color:blue;font-weight:bold\">test mis en forme :</span>'))\n",
    "test.info()"
   ]
  },
  {
   "cell_type": "markdown",
   "metadata": {},
   "source": [
    "# Sauver les deux datasets dans des fichier csv. Eviter d'écrire un index (n° de ligne)"
   ]
  },
  {
   "cell_type": "code",
   "execution_count": null,
   "metadata": {
    "_cell_guid": "2502bb70-ce6f-2497-7331-7d1f80521470",
    "_uuid": "1aa110c1043f1f43c091a771abc64054a211f784"
   },
   "outputs": [],
   "source": [
    "train.to_csv('Data/train_clean.csv',index=False)\n",
    "test.to_csv('Data/test_clean.csv',index=False)"
   ]
  },
  {
   "cell_type": "markdown",
   "metadata": {},
   "source": [
    "##### Question : Sur combien de questions avez-vous utilisé les conseils ?\n"
   ]
  }
 ],
 "metadata": {
  "_change_revision": 0,
  "_is_fork": false,
  "kernelspec": {
   "display_name": "Python 3",
   "language": "python",
   "name": "python3"
  },
  "language_info": {
   "codemirror_mode": {
    "name": "ipython",
    "version": 3
   },
   "file_extension": ".py",
   "mimetype": "text/x-python",
   "name": "python",
   "nbconvert_exporter": "python",
   "pygments_lexer": "ipython3",
   "version": "3.7.4"
  }
 },
 "nbformat": 4,
 "nbformat_minor": 4
}
